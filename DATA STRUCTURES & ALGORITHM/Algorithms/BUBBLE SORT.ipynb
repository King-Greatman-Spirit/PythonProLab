{
 "cells": [
  {
   "cell_type": "code",
   "execution_count": 5,
   "id": "f8459eb6",
   "metadata": {},
   "outputs": [
    {
     "name": "stdout",
     "output_type": "stream",
     "text": [
      "['Greatman', 'King', 'Phavy', 'Spirit', 'Webstacka', 'Zino']\n"
     ]
    }
   ],
   "source": [
    "def bubble_sort(elements):\n",
    "    size = len(elements)\n",
    "    \n",
    "    for i in range(size-1):\n",
    "        swapped = False\n",
    "        for j in range(size-1-i):\n",
    "            if elements[j] > elements[j+1]:\n",
    "                tmp = elements[j]\n",
    "                elements[j] = elements[j+1]\n",
    "                elements[j+1] = tmp\n",
    "                swapped = True\n",
    "                \n",
    "        if not swapped:\n",
    "            break\n",
    "            \n",
    "if __name__ == '__main__':\n",
    "    elements = [5,9,2,1,67,34,88,34]\n",
    "    elements = [1,2,3,4,2]\n",
    "    elements = [\"King\", \"Zino\", \"Phavy\", \"Greatman\", \"Webstacka\", \"Spirit\"]\n",
    "    \n",
    "    bubble_sort(elements)\n",
    "    print(elements)"
   ]
  },
  {
   "cell_type": "markdown",
   "id": "2a90ac3a",
   "metadata": {},
   "source": [
    "First Iteration below:"
   ]
  },
  {
   "cell_type": "markdown",
   "id": "991ea078",
   "metadata": {},
   "source": [
    "![](pics/bubble_sort.png)"
   ]
  },
  {
   "cell_type": "markdown",
   "id": "78980685",
   "metadata": {},
   "source": [
    "Second Iteration below, and the iteration goes on and on till the list is well sorted."
   ]
  },
  {
   "cell_type": "markdown",
   "id": "157f6c4b",
   "metadata": {},
   "source": [
    "![](pics/2bubble_sort.png)"
   ]
  },
  {
   "cell_type": "code",
   "execution_count": 10,
   "id": "09e2a57e",
   "metadata": {},
   "outputs": [
    {
     "name": "stdout",
     "output_type": "stream",
     "text": [
      "[5, 2, 1, 9, 34, 67, 34, 88]\n"
     ]
    }
   ],
   "source": [
    "def bubble_sort(elements):\n",
    "    size = len(elements)\n",
    "    \n",
    "    for i in range(size-1):\n",
    "        if elements[i] > elements[i+1]:\n",
    "            tmp = elements[i]\n",
    "            elements[i] = elements[i+1]\n",
    "            elements[i+1] = tmp\n",
    "            \n",
    "if __name__ == '__main__':\n",
    "    elements1 = [5,9,2,1,67,34,88,34]\n",
    "    bubble_sort(elements1)\n",
    "    print(elements1)"
   ]
  },
  {
   "cell_type": "code",
   "execution_count": 14,
   "id": "26128198",
   "metadata": {},
   "outputs": [
    {
     "name": "stdout",
     "output_type": "stream",
     "text": [
      "[2, 1, 5, 9, 34, 34, 67, 88]\n"
     ]
    }
   ],
   "source": [
    "def bubble_sort(elements):\n",
    "    size = len(elements)\n",
    "    \n",
    "    for k in range(2):\n",
    "        for i in range(size-1):\n",
    "            if elements[i] > elements[i+1]:\n",
    "                tmp = elements[i]\n",
    "                elements[i] = elements[i+1]\n",
    "                elements[i+1] = tmp\n",
    "            \n",
    "if __name__ == '__main__':\n",
    "    elements1 = [5,9,2,1,67,34,88,34]\n",
    "    bubble_sort(elements1)\n",
    "    print(elements1)"
   ]
  },
  {
   "cell_type": "code",
   "execution_count": 7,
   "id": "93c50350",
   "metadata": {},
   "outputs": [
    {
     "name": "stdout",
     "output_type": "stream",
     "text": [
      "[1, 2, 5, 9, 34, 34, 67, 88]\n",
      "[1, 2, 2, 3, 4]\n",
      "['Greatman', 'King', 'Phavy', 'Spirit', 'Webstacka', 'Zino']\n"
     ]
    }
   ],
   "source": [
    "def bubble_sort(elements):\n",
    "    size = len(elements)\n",
    "    \n",
    "    for i in range(size-1):\n",
    "        swapped = False\n",
    "        for j in range(size-1-i):\n",
    "            if elements[j] > elements[j+1]:\n",
    "                tmp = elements[j]\n",
    "                elements[j] = elements[j+1]\n",
    "                elements[j+1] = tmp\n",
    "                swapped = True\n",
    "                \n",
    "        if not swapped:\n",
    "            break\n",
    "            \n",
    "if __name__ == '__main__':\n",
    "    elements1 = [5,9,2,1,67,34,88,34]\n",
    "    elements2 = [1,2,3,4,2]\n",
    "    elements3 = [\"King\", \"Zino\", \"Phavy\", \"Greatman\", \"Webstacka\", \"Spirit\"]\n",
    "    \n",
    "    bubble_sort(elements1)\n",
    "    bubble_sort(elements2)\n",
    "    bubble_sort(elements3)\n",
    "    print(elements1)\n",
    "    print(elements2)\n",
    "    print(elements3)"
   ]
  },
  {
   "cell_type": "markdown",
   "id": "5c6c161d",
   "metadata": {},
   "source": [
    "### BUBBLE SORT EXERCISE"
   ]
  },
  {
   "cell_type": "markdown",
   "id": "b27a6896",
   "metadata": {},
   "source": [
    "Modify buble_sort function such that it can sort the following list of transactions happening in an electronic store.\n",
    "\n",
    "elements = [\n",
    "        { 'name': 'mona',   'transaction_amount': 1000, 'device': 'iphone-10'},\n",
    "        \n",
    "        { 'name': 'dhaval', 'transaction_amount': 400,  'device': 'google pixel'},\n",
    "        \n",
    "        { 'name': 'kathy',  'transaction_amount': 200,  'device': 'vivo'},\n",
    "        \n",
    "        { 'name': 'aamir',  'transaction_amount': 800,  'device': 'iphone-8'},\n",
    "    ]\n",
    "\n",
    "bubble_sort function should take key from a transaction record and sort the list as per that key. For example,\n",
    "\n",
    "bubble_sort(elements, key='transaction_amount')\n",
    "\n",
    "This will sort elements by transaction_amount and your sorted list will look like,\n",
    "\n",
    "elements = [\n",
    "        { 'name': 'kathy',  'transaction_amount': 200,  'device': 'vivo'},\n",
    "        \n",
    "        { 'name': 'dhaval', 'transaction_amount': 400,  'device': 'google pixel'},\n",
    "        \n",
    "        { 'name': 'aamir',  'transaction_amount': 800,  'device': 'iphone-8'},\n",
    "        \n",
    "        { 'name': 'mona',   'transaction_amount': 1000, 'device': 'iphone-10'},\n",
    "    ]\n",
    "    \n",
    "But if you call it like this,\n",
    "\n",
    "bubble_sort(elements, key='name')\n",
    "\n",
    "output will be,\n",
    "\n",
    "elements = [\n",
    "        { 'name': 'aamir',  'transaction_amount': 800,  'device': 'iphone-8'},\n",
    "        \n",
    "        { 'name': 'dhaval', 'transaction_amount': 400,  'device': 'google pixel'},\n",
    "        \n",
    "        { 'name': 'kathy',  'transaction_amount': 200,  'device': 'vivo'},\n",
    "        \n",
    "        { 'name': 'mona',   'transaction_amount': 1000, 'device': 'iphone-10'},\n",
    "    ]"
   ]
  },
  {
   "cell_type": "code",
   "execution_count": 17,
   "id": "f9a6e183",
   "metadata": {},
   "outputs": [
    {
     "name": "stdout",
     "output_type": "stream",
     "text": [
      "[{'name': 'kathy', 'transaction_amount': 200, 'device': 'vivo'}, {'name': 'dhaval', 'transaction_amount': 400, 'device': 'google pixel'}, {'name': 'aamir', 'transaction_amount': 800, 'device': 'iphone-8'}, {'name': 'mona', 'transaction_amount': 1000, 'device': 'iphone-10'}]\n",
      "[{'name': 'aamir', 'transaction_amount': 800, 'device': 'iphone-8'}, {'name': 'dhaval', 'transaction_amount': 400, 'device': 'google pixel'}, {'name': 'kathy', 'transaction_amount': 200, 'device': 'vivo'}, {'name': 'mona', 'transaction_amount': 1000, 'device': 'iphone-10'}]\n",
      "[{'name': 'dhaval', 'transaction_amount': 400, 'device': 'google pixel'}, {'name': 'mona', 'transaction_amount': 1000, 'device': 'iphone-10'}, {'name': 'aamir', 'transaction_amount': 800, 'device': 'iphone-8'}, {'name': 'kathy', 'transaction_amount': 200, 'device': 'vivo'}]\n"
     ]
    }
   ],
   "source": [
    "def bubble_sort(elements, key=None):\n",
    "    size = len(elements)\n",
    "    \n",
    "    for i in range(size-1):\n",
    "        swapped = False\n",
    "        for j in range(size-1-i):\n",
    "            a = elements[j][key]\n",
    "            b = elements[j+1][key]\n",
    "            if a > b:\n",
    "                tmp = elements[j]\n",
    "                elements[j] = elements[j+1]\n",
    "                elements[j+1] = tmp\n",
    "                swapped = True\n",
    "\n",
    "        if not swapped:\n",
    "            break\n",
    "\n",
    "if __name__ =='__main__':\n",
    "    elements = [\n",
    "        { 'name': 'mona',   'transaction_amount': 1000, 'device': 'iphone-10'},\n",
    "        { 'name': 'dhaval', 'transaction_amount': 400,  'device': 'google pixel'},\n",
    "        { 'name': 'kathy',  'transaction_amount': 200,  'device': 'vivo'},\n",
    "        { 'name': 'aamir',  'transaction_amount': 800,  'device': 'iphone-8'},\n",
    "    ]\n",
    "    \n",
    "    bubble_sort(elements, key='transaction_amount')\n",
    "    print(elements)\n",
    "    \n",
    "    bubble_sort(elements, key='name')\n",
    "    print(elements)\n",
    "    \n",
    "    bubble_sort(elements, key='device')\n",
    "    print(elements)"
   ]
  },
  {
   "cell_type": "code",
   "execution_count": null,
   "id": "ca01153e",
   "metadata": {},
   "outputs": [],
   "source": []
  }
 ],
 "metadata": {
  "kernelspec": {
   "display_name": "Python 3 (ipykernel)",
   "language": "python",
   "name": "python3"
  },
  "language_info": {
   "codemirror_mode": {
    "name": "ipython",
    "version": 3
   },
   "file_extension": ".py",
   "mimetype": "text/x-python",
   "name": "python",
   "nbconvert_exporter": "python",
   "pygments_lexer": "ipython3",
   "version": "3.11.4"
  }
 },
 "nbformat": 4,
 "nbformat_minor": 5
}
