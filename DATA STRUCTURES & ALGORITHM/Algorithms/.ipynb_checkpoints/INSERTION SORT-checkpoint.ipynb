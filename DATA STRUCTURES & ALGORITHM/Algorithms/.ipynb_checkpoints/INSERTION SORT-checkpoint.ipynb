{
 "cells": [
  {
   "cell_type": "code",
   "execution_count": null,
   "id": "6a9b5ee4",
   "metadata": {},
   "outputs": [],
   "source": []
  },
  {
   "cell_type": "markdown",
   "id": "5f7be6d4",
   "metadata": {},
   "source": [
    "![](pics/perform.png)"
   ]
  },
  {
   "cell_type": "markdown",
   "id": "3efcf1e6",
   "metadata": {},
   "source": [
    "![](pics/definition.png)"
   ]
  },
  {
   "cell_type": "code",
   "execution_count": 2,
   "id": "1bf06c45",
   "metadata": {},
   "outputs": [
    {
     "name": "stdout",
     "output_type": "stream",
     "text": [
      "[2, 7, 9, 11, 15, 28, 29]\n"
     ]
    }
   ],
   "source": [
    "def insertion_sort(elements):\n",
    "    for i in range(1, len(elements)):\n",
    "        anchor = elements[i]\n",
    "        j = i - 1\n",
    "        while j >=0 and anchor < elements[j]:\n",
    "            #swapping fromm left to right\n",
    "            elements[j+1] = elements[j]\n",
    "            j = j - 1\n",
    "        elements[j+1] = anchor\n",
    "    \n",
    "if __name__ == '__main__': \n",
    "    elements = [11,9,29,7,2,15,28]\n",
    "    insertion_sort(elements)\n",
    "    print(elements)"
   ]
  },
  {
   "cell_type": "code",
   "execution_count": 5,
   "id": "3a02fd6d",
   "metadata": {},
   "outputs": [
    {
     "name": "stdout",
     "output_type": "stream",
     "text": [
      "sorted array: [6]\n"
     ]
    }
   ],
   "source": [
    "def insertion_sort(elements):\n",
    "    for i in range(1, len(elements)):\n",
    "        anchor = elements[i]\n",
    "        j = i - 1\n",
    "        while j >=0 and anchor < elements[j]:\n",
    "            elements[j+1] = elements[j]\n",
    "            j = j - 1\n",
    "        elements[j+1] = anchor\n",
    "    \n",
    "if __name__ == '__main__':\n",
    "    tests = [\n",
    "        [11,9,29,7,2,15,28],\n",
    "        [3,7,9,11],\n",
    "        [25, 22, 21, 10],\n",
    "        [],\n",
    "        [6]\n",
    "    ]\n",
    "    \n",
    "    for elements in tests:\n",
    "        insertion_sort(elements)\n",
    "    print(f'sorted array: {elements}')"
   ]
  },
  {
   "cell_type": "code",
   "execution_count": 6,
   "id": "5c0d2cf3",
   "metadata": {},
   "outputs": [
    {
     "name": "stdout",
     "output_type": "stream",
     "text": [
      "sorted array: [2, 7, 9, 11, 15, 28, 29]\n",
      "sorted array: [3, 7, 9, 11]\n",
      "sorted array: [10, 21, 22, 25]\n",
      "sorted array: []\n",
      "sorted array: [6]\n"
     ]
    }
   ],
   "source": [
    "def insertion_sort(elements):\n",
    "    for i in range(1, len(elements)):\n",
    "        anchor = elements[i]\n",
    "        j = i - 1\n",
    "        while j >=0 and anchor < elements[j]:\n",
    "            elements[j+1] = elements[j]\n",
    "            j = j - 1\n",
    "        elements[j+1] = anchor\n",
    "    \n",
    "if __name__ == '__main__':\n",
    "    tests = [\n",
    "        [11,9,29,7,2,15,28],\n",
    "        [3,7,9,11],\n",
    "        [25, 22, 21, 10],\n",
    "        [],\n",
    "        [6]\n",
    "    ]\n",
    "    \n",
    "    for elements in tests:\n",
    "        insertion_sort(elements)\n",
    "        print(f'sorted array: {elements}')"
   ]
  },
  {
   "cell_type": "markdown",
   "id": "38f61ef9",
   "metadata": {},
   "source": [
    "### Exercise: Insertion Sort\n",
    "\n",
    "Compute the running median of a sequence of numbers. That is, given a stream of numbers, print out the median of the list so far on each new element.\n",
    "\n",
    "Recall that the median of an even-numbered list is the average of the two middle numbers in a *sorted list*.\n",
    "\n",
    "For example, given the sequence `[2, 1, 5, 7, 2, 0, 5]`, your algorithm should print out:\n",
    "\n",
    "```\n",
    "2\n",
    "1.5\n",
    "2\n",
    "3.5\n",
    "2\n",
    "2\n",
    "2\n",
    "```"
   ]
  },
  {
   "cell_type": "code",
   "execution_count": null,
   "id": "0f24466d",
   "metadata": {},
   "outputs": [],
   "source": [
    "def place_to_insert(array, key):\n",
    "    index = 0\n",
    "    for i in array:\n",
    "        if i > key:\n",
    "            break\n",
    "        else:\n",
    "            index += 1\n",
    "    return index\n",
    "\n",
    "def insert_to_sorted(array, key):\n",
    "    index = place_to_insert(array, key)\n",
    "    return array[0:index]+[key]+array[index:]\n",
    "\n",
    "if __name__==\"__main__\":\n",
    "    array = [2,1,5,7,2,0,5]\n",
    "    \n",
    "    stream = []\n",
    "    \n",
    "    count = 0\n",
    "    while(True):\n",
    "        i = int(input())\n",
    "        count += 1\n",
    "        stream = insert_to_sorted(stream, 1)\n",
    "        if count % 2 == 1:\n",
    "            print(f'Median of {stream} : {stream[(count)//2]}')\n",
    "        else:\n",
    "            i1 = count//2\n",
    "            i2 = (count//2) - 1\n",
    "            print(f\"Median of {stream} : {(stream[i1] + stream[i2])/2}\")"
   ]
  },
  {
   "cell_type": "code",
   "execution_count": null,
   "id": "330114b9",
   "metadata": {},
   "outputs": [],
   "source": []
  },
  {
   "cell_type": "code",
   "execution_count": null,
   "id": "e36599ff",
   "metadata": {},
   "outputs": [],
   "source": []
  }
 ],
 "metadata": {
  "kernelspec": {
   "display_name": "Python 3 (ipykernel)",
   "language": "python",
   "name": "python3"
  },
  "language_info": {
   "codemirror_mode": {
    "name": "ipython",
    "version": 3
   },
   "file_extension": ".py",
   "mimetype": "text/x-python",
   "name": "python",
   "nbconvert_exporter": "python",
   "pygments_lexer": "ipython3",
   "version": "3.11.4"
  }
 },
 "nbformat": 4,
 "nbformat_minor": 5
}
