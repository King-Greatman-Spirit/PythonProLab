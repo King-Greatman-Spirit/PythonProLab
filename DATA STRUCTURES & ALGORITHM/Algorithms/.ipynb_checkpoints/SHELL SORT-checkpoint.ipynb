{
 "cells": [
  {
   "cell_type": "markdown",
   "id": "63f9832b",
   "metadata": {},
   "source": [
    "![](pics/shell.png)"
   ]
  },
  {
   "cell_type": "markdown",
   "id": "de3098c7",
   "metadata": {},
   "source": [
    "![](pics/issues.png)"
   ]
  },
  {
   "cell_type": "markdown",
   "id": "b1b6a742",
   "metadata": {},
   "source": [
    "![](pics/gap.png)"
   ]
  },
  {
   "cell_type": "markdown",
   "id": "95e76f2d",
   "metadata": {},
   "source": [
    "![](pics/wikibigo.png)"
   ]
  },
  {
   "cell_type": "code",
   "execution_count": 3,
   "id": "0a86555c",
   "metadata": {},
   "outputs": [
    {
     "name": "stdout",
     "output_type": "stream",
     "text": [
      "[11, 4, 9, 17, 32, 25, 21, 38, 29]\n"
     ]
    }
   ],
   "source": [
    "def shell_sort(arr):\n",
    "    gap = 3\n",
    "    size = len(arr)\n",
    "    \n",
    "    for i in range(gap, size):\n",
    "        anchor = arr[i]\n",
    "        j = i\n",
    "        while j>= gap and arr[j-gap] > anchor:\n",
    "            arr[j] = arr[j-gap]\n",
    "            j -= gap\n",
    "            \n",
    "        arr[j] = anchor\n",
    "        pass\n",
    "    \n",
    "    \n",
    "if __name__=='__main__':\n",
    "    elements = [21, 38, 29, 17, 4, 25, 11, 32, 9]\n",
    "    shell_sort(elements)\n",
    "    print(elements)"
   ]
  },
  {
   "cell_type": "code",
   "execution_count": 5,
   "id": "540d74dc",
   "metadata": {},
   "outputs": [
    {
     "name": "stdout",
     "output_type": "stream",
     "text": [
      "[4, 9, 11, 17, 21, 25, 29, 32, 38]\n"
     ]
    }
   ],
   "source": [
    "def shell_sort(arr):\n",
    "    size = len(arr)\n",
    "    gap = size // 2\n",
    "    \n",
    "    while gap > 0:\n",
    "        for i in range(gap, size):\n",
    "            anchor = arr[i]\n",
    "            j = i\n",
    "            while j>= gap and arr[j-gap] > anchor:\n",
    "                arr[j] = arr[j-gap]\n",
    "                j -= gap\n",
    "\n",
    "            arr[j] = anchor\n",
    "        gap //= 2\n",
    "    \n",
    "    \n",
    "if __name__=='__main__':\n",
    "    elements = [21, 38, 29, 17, 4, 25, 11, 32, 9]\n",
    "    shell_sort(elements)\n",
    "    print(elements)"
   ]
  },
  {
   "cell_type": "code",
   "execution_count": 6,
   "id": "a37cb253",
   "metadata": {},
   "outputs": [
    {
     "name": "stdout",
     "output_type": "stream",
     "text": [
      "[1, 2, 6, 7, 9, 12, 17, 21, 23, 53, 61, 78, 89]\n",
      "[]\n",
      "[1, 5, 8, 9]\n",
      "[1, 3, 9, 12, 12, 34, 56, 234, 1300]\n",
      "[2, 8, 12, 15, 23, 27, 53, 61, 78]\n",
      "[5]\n"
     ]
    }
   ],
   "source": [
    "def shell_sort(arr):\n",
    "    size = len(arr)\n",
    "    gap = size // 2\n",
    "    \n",
    "    while gap > 0:\n",
    "        for i in range(gap, size):\n",
    "            anchor = arr[i]\n",
    "            j = i\n",
    "            while j>= gap and arr[j-gap] > anchor:\n",
    "                arr[j] = arr[j-gap]\n",
    "                j -= gap\n",
    "\n",
    "            arr[j] = anchor\n",
    "        gap //= 2\n",
    "    \n",
    "    \n",
    "if __name__=='__main__':\n",
    "    tests = [\n",
    "        [89, 78, 61, 53, 23, 21, 17, 12, 9, 7, 6, 2, 1],\n",
    "        [],\n",
    "        [1, 5, 8, 9],\n",
    "        [234, 3, 1, 56, 34, 12, 9, 12, 1300],\n",
    "        [78, 12, 15, 8, 61, 53, 2, 23, 27],\n",
    "        [5]\n",
    "    ]\n",
    "    \n",
    "    for elements in tests:\n",
    "        shell_sort(elements)\n",
    "        print(elements)"
   ]
  },
  {
   "cell_type": "markdown",
   "id": "8ca48c64",
   "metadata": {},
   "source": [
    "### EXERCISE: SHELL SORT"
   ]
  },
  {
   "cell_type": "markdown",
   "id": "6376e086",
   "metadata": {},
   "source": [
    "Sort the elements of a given list using shell sort, but with a slight modification. Remove all the repeating occurances of elements while sorting. \n",
    "\n",
    "Traditionally, when comparing two elements in shell sort, we swap if first element is bigger than second, and do nothing otherwise.\n",
    "\n",
    " In this modified shell sort with duplicate removal, we will swap if first element is bigger than second, and do nothing if element is smaller, but if values are same, we will delete one of the two elements we are comparing before starting the next pass for the reduced gap.\n",
    "\n",
    "\n",
    "\n",
    "For example, given the unsorted list `[2, 1, 5, 7, 2, 0, 5, 1, 2, 9, 5, 8, 3]`, after sorting using shell sort without duplicates, the sorted list would be:\n",
    "\n",
    "```\n",
    "[0, 1, 2, 3, 5, 7, 8, 9]\n",
    "```"
   ]
  },
  {
   "cell_type": "code",
   "execution_count": null,
   "id": "b7f971e6",
   "metadata": {},
   "outputs": [],
   "source": [
    "def shell_sort(arr):\n",
    "    n = len(arr)\n",
    "    div = 2\n",
    "    gap = n // div\n",
    "    \n",
    "    while gap > 0:\n",
    "        index_to_delete = []\n",
    "        for i in range(gap, n):\n",
    "            temp = arr[i]\n",
    "            j = i\n",
    "            \n",
    "            while j>= gap and arr[j-gap] >=temp:\n",
    "                if arr[j-gap] == temp:\n",
    "                    index_to_delete.append(j)\n",
    "                    arr[j] = arr[j-gap]\n",
    "                    j -= gap\n",
    "                arr[j] = temp\n",
    "            \n",
    "            index_to_delete = list(set(index_to_delete))\n",
    "            index_to_delete.sort()\n",
    "            \n",
    "            if index_to_delete:\n",
    "                for i in index_to_delete[-1::-1]:\n",
    "                    del arr[i]\n",
    "            div *= 2\n",
    "            n = len(arr)\n",
    "            gap = n//div\n",
    "            \n",
    "if __name__=='__main__':\n",
    "    elements = [2, 1, 5, 7, 2, 0, 5, 1, 2, 9, 5, 8, 3]\n",
    "    \n",
    "    print(f'Given unsorted list : {elements}')\n",
    "    shell_sort(elements)\n",
    "    print(f'list after sorting : {elements}')"
   ]
  },
  {
   "cell_type": "code",
   "execution_count": null,
   "id": "247b9fb7",
   "metadata": {},
   "outputs": [],
   "source": []
  }
 ],
 "metadata": {
  "kernelspec": {
   "display_name": "Python 3 (ipykernel)",
   "language": "python",
   "name": "python3"
  },
  "language_info": {
   "codemirror_mode": {
    "name": "ipython",
    "version": 3
   },
   "file_extension": ".py",
   "mimetype": "text/x-python",
   "name": "python",
   "nbconvert_exporter": "python",
   "pygments_lexer": "ipython3",
   "version": "3.11.4"
  }
 },
 "nbformat": 4,
 "nbformat_minor": 5
}
