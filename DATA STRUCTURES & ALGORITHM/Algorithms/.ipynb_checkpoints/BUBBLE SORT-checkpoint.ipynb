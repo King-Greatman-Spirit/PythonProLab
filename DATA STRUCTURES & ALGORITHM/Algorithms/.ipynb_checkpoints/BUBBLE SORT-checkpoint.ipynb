{
 "cells": [
  {
   "cell_type": "code",
   "execution_count": 5,
   "id": "f8459eb6",
   "metadata": {},
   "outputs": [
    {
     "name": "stdout",
     "output_type": "stream",
     "text": [
      "['Greatman', 'King', 'Phavy', 'Spirit', 'Webstacka', 'Zino']\n"
     ]
    }
   ],
   "source": [
    "def bubble_sort(elements):\n",
    "    size = len(elements)\n",
    "    \n",
    "    for i in range(size-1):\n",
    "        swapped = False\n",
    "        for j in range(size-1-i):\n",
    "            if elements[j] > elements[j+1]:\n",
    "                tmp = elements[j]\n",
    "                elements[j] = elements[j+1]\n",
    "                elements[j+1] = tmp\n",
    "                swapped = True\n",
    "                \n",
    "        if not swapped:\n",
    "            break\n",
    "            \n",
    "if __name__ == '__main__':\n",
    "    elements = [5,9,2,1,67,34,88,34]\n",
    "    elements = [1,2,3,4,2]\n",
    "    elements = [\"King\", \"Zino\", \"Phavy\", \"Greatman\", \"Webstacka\", \"Spirit\"]\n",
    "    \n",
    "    bubble_sort(elements)\n",
    "    print(elements)"
   ]
  },
  {
   "cell_type": "markdown",
   "id": "8f9b416f",
   "metadata": {},
   "source": [
    "First Iteration below:"
   ]
  },
  {
   "cell_type": "markdown",
   "id": "42fe4f46",
   "metadata": {},
   "source": [
    "![](pics/bubble_sort.png)"
   ]
  },
  {
   "cell_type": "markdown",
   "id": "cd945a45",
   "metadata": {},
   "source": [
    "Second Iteration below, and the iteration goes on and on till the list is well sorted."
   ]
  },
  {
   "cell_type": "markdown",
   "id": "9066eabe",
   "metadata": {},
   "source": [
    "![](pics/2bubble_sort.png)"
   ]
  },
  {
   "cell_type": "code",
   "execution_count": 10,
   "id": "3925f446",
   "metadata": {},
   "outputs": [
    {
     "name": "stdout",
     "output_type": "stream",
     "text": [
      "[5, 2, 1, 9, 34, 67, 34, 88]\n"
     ]
    }
   ],
   "source": [
    "def bubble_sort(elements):\n",
    "    size = len(elements)\n",
    "    \n",
    "    for i in range(size-1):\n",
    "        if elements[i] > elements[i+1]:\n",
    "            tmp = elements[i]\n",
    "            elements[i] = elements[i+1]\n",
    "            elements[i+1] = tmp\n",
    "            \n",
    "if __name__ == '__main__':\n",
    "    elements1 = [5,9,2,1,67,34,88,34]\n",
    "    bubble_sort(elements1)\n",
    "    print(elements1)"
   ]
  },
  {
   "cell_type": "code",
   "execution_count": 14,
   "id": "9be62aea",
   "metadata": {},
   "outputs": [
    {
     "name": "stdout",
     "output_type": "stream",
     "text": [
      "[2, 1, 5, 9, 34, 34, 67, 88]\n"
     ]
    }
   ],
   "source": [
    "def bubble_sort(elements):\n",
    "    size = len(elements)\n",
    "    \n",
    "    for k in range(2):\n",
    "        for i in range(size-1):\n",
    "            if elements[i] > elements[i+1]:\n",
    "                tmp = elements[i]\n",
    "                elements[i] = elements[i+1]\n",
    "                elements[i+1] = tmp\n",
    "            \n",
    "if __name__ == '__main__':\n",
    "    elements1 = [5,9,2,1,67,34,88,34]\n",
    "    bubble_sort(elements1)\n",
    "    print(elements1)"
   ]
  },
  {
   "cell_type": "code",
   "execution_count": 7,
   "id": "e6fcb1d2",
   "metadata": {},
   "outputs": [
    {
     "name": "stdout",
     "output_type": "stream",
     "text": [
      "[1, 2, 5, 9, 34, 34, 67, 88]\n",
      "[1, 2, 2, 3, 4]\n",
      "['Greatman', 'King', 'Phavy', 'Spirit', 'Webstacka', 'Zino']\n"
     ]
    }
   ],
   "source": [
    "def bubble_sort(elements):\n",
    "    size = len(elements)\n",
    "    \n",
    "    for i in range(size-1):\n",
    "        swapped = False\n",
    "        for j in range(size-1-i):\n",
    "            if elements[j] > elements[j+1]:\n",
    "                tmp = elements[j]\n",
    "                elements[j] = elements[j+1]\n",
    "                elements[j+1] = tmp\n",
    "                swapped = True\n",
    "                \n",
    "        if not swapped:\n",
    "            break\n",
    "            \n",
    "if __name__ == '__main__':\n",
    "    elements1 = [5,9,2,1,67,34,88,34]\n",
    "    elements2 = [1,2,3,4,2]\n",
    "    elements3 = [\"King\", \"Zino\", \"Phavy\", \"Greatman\", \"Webstacka\", \"Spirit\"]\n",
    "    \n",
    "    bubble_sort(elements1)\n",
    "    bubble_sort(elements2)\n",
    "    bubble_sort(elements3)\n",
    "    print(elements1)\n",
    "    print(elements2)\n",
    "    print(elements3)"
   ]
  },
  {
   "cell_type": "markdown",
   "id": "4210707f",
   "metadata": {},
   "source": [
    "### BUBBLE SORT EXERCISE"
   ]
  },
  {
   "cell_type": "markdown",
   "id": "548839c2",
   "metadata": {},
   "source": [
    "Modify buble_sort function such that it can sort the following list of transactions happening in an electronic store.\n",
    "\n",
    "elements = [\n",
    "        { 'name': 'mona',   'transaction_amount': 1000, 'device': 'iphone-10'},\n",
    "        \n",
    "        { 'name': 'dhaval', 'transaction_amount': 400,  'device': 'google pixel'},\n",
    "        \n",
    "        { 'name': 'kathy',  'transaction_amount': 200,  'device': 'vivo'},\n",
    "        \n",
    "        { 'name': 'aamir',  'transaction_amount': 800,  'device': 'iphone-8'},\n",
    "    ]\n",
    "\n",
    "bubble_sort function should take key from a transaction record and sort the list as per that key. For example,\n",
    "\n",
    "bubble_sort(elements, key='transaction_amount')\n",
    "\n",
    "This will sort elements by transaction_amount and your sorted list will look like,\n",
    "\n",
    "elements = [\n",
    "        { 'name': 'kathy',  'transaction_amount': 200,  'device': 'vivo'},\n",
    "        \n",
    "        { 'name': 'dhaval', 'transaction_amount': 400,  'device': 'google pixel'},\n",
    "        \n",
    "        { 'name': 'aamir',  'transaction_amount': 800,  'device': 'iphone-8'},\n",
    "        \n",
    "        { 'name': 'mona',   'transaction_amount': 1000, 'device': 'iphone-10'},\n",
    "    ]\n",
    "    \n",
    "But if you call it like this,\n",
    "\n",
    "bubble_sort(elements, key='name')\n",
    "\n",
    "output will be,\n",
    "\n",
    "elements = [\n",
    "        { 'name': 'aamir',  'transaction_amount': 800,  'device': 'iphone-8'},\n",
    "        \n",
    "        { 'name': 'dhaval', 'transaction_amount': 400,  'device': 'google pixel'},\n",
    "        \n",
    "        { 'name': 'kathy',  'transaction_amount': 200,  'device': 'vivo'},\n",
    "        \n",
    "        { 'name': 'mona',   'transaction_amount': 1000, 'device': 'iphone-10'},\n",
    "    ]"
   ]
  },
  {
   "cell_type": "code",
   "execution_count": 16,
   "id": "6cca0892",
   "metadata": {},
   "outputs": [
    {
     "name": "stdout",
     "output_type": "stream",
     "text": [
      "[{'name': 'kathy', 'transaction_amount': 200, 'device': 'vivo'}, {'name': 'dhaval', 'transaction_amount': 400, 'device': 'google pixel'}, {'name': 'aamir', 'transaction_amount': 800, 'device': 'iphone-8'}, {'name': 'mona', 'transaction_amount': 1000, 'device': 'iphone-10'}]\n"
     ]
    }
   ],
   "source": [
    "def bubble_sort(elements, key=None):\n",
    "    size = len(elements)\n",
    "    \n",
    "    for i in range(size-1):\n",
    "        swapped = False\n",
    "        for j in range(size-1-i):\n",
    "            a = elements[j][key]\n",
    "            b = elements[j+1][key]\n",
    "            if a > b:\n",
    "                tmp = elements[j]\n",
    "                elements[j] = elements[j+1]\n",
    "                elements[j+1] = tmp\n",
    "                swapped = True\n",
    "\n",
    "        if not swapped:\n",
    "            break\n",
    "\n",
    "if __name__ =='__main__':\n",
    "    elements = [\n",
    "        { 'name': 'mona',   'transaction_amount': 1000, 'device': 'iphone-10'},\n",
    "        { 'name': 'dhaval', 'transaction_amount': 400,  'device': 'google pixel'},\n",
    "        { 'name': 'kathy',  'transaction_amount': 200,  'device': 'vivo'},\n",
    "        { 'name': 'aamir',  'transaction_amount': 800,  'device': 'iphone-8'},\n",
    "    ]\n",
    "    \n",
    "    bubble_sort(elements, key='transaction_amount')\n",
    "    print(elements)\n",
    "    \n",
    "    bubble_sort(elements, key='name')\n",
    "    print(elements)\n",
    "    \n",
    "    bubble_sort(elements, key='device')\n",
    "    print(elements)"
   ]
  },
  {
   "cell_type": "code",
   "execution_count": null,
   "id": "f2a7318c",
   "metadata": {},
   "outputs": [],
   "source": []
  }
 ],
 "metadata": {
  "kernelspec": {
   "display_name": "Python 3 (ipykernel)",
   "language": "python",
   "name": "python3"
  },
  "language_info": {
   "codemirror_mode": {
    "name": "ipython",
    "version": 3
   },
   "file_extension": ".py",
   "mimetype": "text/x-python",
   "name": "python",
   "nbconvert_exporter": "python",
   "pygments_lexer": "ipython3",
   "version": "3.11.4"
  }
 },
 "nbformat": 4,
 "nbformat_minor": 5
}
