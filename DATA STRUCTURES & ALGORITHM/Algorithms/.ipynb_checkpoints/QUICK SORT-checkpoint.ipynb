{
 "cells": [
  {
   "cell_type": "markdown",
   "id": "a2883d2d",
   "metadata": {},
   "source": [
    "The process of placing a pivot(an element) in the right partitioning.\n",
    "\n",
    "Two types of partition schemes:\n",
    "1. Hoare Partition\n",
    "2. Lomuto Partition"
   ]
  },
  {
   "cell_type": "markdown",
   "id": "cea0f744",
   "metadata": {},
   "source": [
    "![](pics/pivot.png)"
   ]
  },
  {
   "cell_type": "markdown",
   "id": "d37d4c1f",
   "metadata": {},
   "source": [
    "!![](pics/complexity.png)"
   ]
  },
  {
   "cell_type": "markdown",
   "id": "52cf992c",
   "metadata": {},
   "source": [
    "#### Pivot Handling For The First Element"
   ]
  },
  {
   "cell_type": "code",
   "execution_count": 3,
   "id": "8fbdd7ac",
   "metadata": {},
   "outputs": [
    {
     "name": "stdout",
     "output_type": "stream",
     "text": [
      "[11, 9, 2, 7, 29, 15, 28]\n"
     ]
    }
   ],
   "source": [
    "def swap(a, b, arr):\n",
    "    if a != b:\n",
    "        tmp = arr[a]\n",
    "        arr[a] = arr[b]\n",
    "        arr[b] = tmp\n",
    "\n",
    "def partition(elements):\n",
    "    pivot_index = 0\n",
    "    pivot = elements[pivot_index]\n",
    "    \n",
    "    start = pivot_index + 1\n",
    "    end = len(elements) - 1\n",
    "    \n",
    "    while elements[start] <= pivot:\n",
    "        start += 1\n",
    "        \n",
    "    while elements[end] > pivot:\n",
    "        end -= 1 \n",
    "        \n",
    "    if start < end:\n",
    "        swap(start, end, elements)\n",
    "    \n",
    "\n",
    "def quick_sort(elements):\n",
    "    partition(elements)\n",
    "    \n",
    "if __name__== '__main__':\n",
    "    elements = [11, 9, 29, 7, 2, 15, 28]\n",
    "    quick_sort(elements)\n",
    "    print(elements)"
   ]
  },
  {
   "cell_type": "code",
   "execution_count": 4,
   "id": "46941a88",
   "metadata": {},
   "outputs": [
    {
     "name": "stdout",
     "output_type": "stream",
     "text": [
      "[29, 9, 2, 7, 11, 15, 28]\n"
     ]
    }
   ],
   "source": [
    "def swap(a, b, arr):\n",
    "    if a != b:\n",
    "        tmp = arr[a]\n",
    "        arr[a] = arr[b]\n",
    "        arr[b] = tmp\n",
    "\n",
    "def partition(elements):\n",
    "    pivot_index = 0\n",
    "    pivot = elements[pivot_index]\n",
    "    \n",
    "    start = pivot_index + 1\n",
    "    end = len(elements) - 1\n",
    "    \n",
    "    while elements[start] <= pivot:\n",
    "        start += 1\n",
    "        \n",
    "    while elements[end] > pivot:\n",
    "        end -= 1 \n",
    "        \n",
    "    if start < end:\n",
    "        swap(start, end, elements)\n",
    "        \n",
    "    swap(pivot_index, end, elements)\n",
    "    \n",
    "\n",
    "def quick_sort(elements):\n",
    "    partition(elements)\n",
    "    \n",
    "if __name__== '__main__':\n",
    "    elements = [11, 9, 29, 7, 2, 15, 28]\n",
    "    quick_sort(elements)\n",
    "    print(elements)"
   ]
  },
  {
   "cell_type": "code",
   "execution_count": 5,
   "id": "4de818c7",
   "metadata": {},
   "outputs": [
    {
     "name": "stdout",
     "output_type": "stream",
     "text": [
      "[7, 9, 2, 11, 29, 15, 28]\n"
     ]
    }
   ],
   "source": [
    "def swap(a, b, arr):\n",
    "    if a != b:\n",
    "        tmp = arr[a]\n",
    "        arr[a] = arr[b]\n",
    "        arr[b] = tmp\n",
    "\n",
    "def partition(elements):\n",
    "    pivot_index = 0\n",
    "    pivot = elements[pivot_index]\n",
    "    \n",
    "    start = pivot_index + 1\n",
    "    end = len(elements) - 1\n",
    "    \n",
    "    while start < end:\n",
    "    \n",
    "        while elements[start] <= pivot:\n",
    "            start += 1\n",
    "\n",
    "        while elements[end] > pivot:\n",
    "            end -= 1 \n",
    "\n",
    "        if start < end:\n",
    "            swap(start, end, elements)\n",
    "        \n",
    "    swap(pivot_index, end, elements)\n",
    "    \n",
    "\n",
    "def quick_sort(elements):\n",
    "    partition(elements)\n",
    "    \n",
    "if __name__== '__main__':\n",
    "    elements = [11, 9, 29, 7, 2, 15, 28]\n",
    "    quick_sort(elements)\n",
    "    print(elements)"
   ]
  },
  {
   "cell_type": "markdown",
   "id": "022abc4e",
   "metadata": {},
   "source": [
    "#### Pivot Handling Recursively"
   ]
  },
  {
   "cell_type": "code",
   "execution_count": 7,
   "id": "b766c3c1",
   "metadata": {},
   "outputs": [
    {
     "name": "stdout",
     "output_type": "stream",
     "text": [
      "[7, 9, 2, 11, 29, 15, 28]\n"
     ]
    }
   ],
   "source": [
    "def swap(a, b, arr):\n",
    "    if a != b:\n",
    "        tmp = arr[a]\n",
    "        arr[a] = arr[b]\n",
    "        arr[b] = tmp\n",
    "\n",
    "def partition(elements, start, end):\n",
    "    pivot_index = start\n",
    "    pivot = elements[pivot_index]\n",
    "    \n",
    "    while start < end:\n",
    "        while elements[start] <= pivot:\n",
    "            start += 1\n",
    "\n",
    "        while elements[end] > pivot:\n",
    "            end -= 1 \n",
    "\n",
    "        if start < end:\n",
    "            swap(start, end, elements)\n",
    "        \n",
    "    swap(pivot_index, end, elements)\n",
    "    \n",
    "    return end\n",
    "\n",
    "def quick_sort(elements, start, end):\n",
    "    \n",
    "    pi = partition(elements, start, end)\n",
    "    \n",
    "if __name__== '__main__':\n",
    "    elements = [11, 9, 29, 7, 2, 15, 28]\n",
    "    quick_sort(elements, 0, len(elements)-1)\n",
    "    print(elements)"
   ]
  },
  {
   "cell_type": "code",
   "execution_count": 12,
   "id": "cef3e714",
   "metadata": {},
   "outputs": [
    {
     "name": "stdout",
     "output_type": "stream",
     "text": [
      "[2, 7, 9, 11, 15, 28, 29]\n"
     ]
    }
   ],
   "source": [
    "def swap(a, b, arr):\n",
    "    if a != b:\n",
    "        tmp = arr[a]\n",
    "        arr[a] = arr[b]\n",
    "        arr[b] = tmp\n",
    "\n",
    "def partition(elements, start, end):\n",
    "    pivot_index = start\n",
    "    pivot = elements[pivot_index]\n",
    "    \n",
    "    while start < end:\n",
    "        while start < len(elements) and elements[start] <= pivot:\n",
    "            start += 1\n",
    "\n",
    "        while elements[end] > pivot:\n",
    "            end -= 1 \n",
    "\n",
    "        if start < end:\n",
    "            swap(start, end, elements)\n",
    "        \n",
    "    swap(pivot_index, end, elements)\n",
    "    \n",
    "    return end\n",
    "\n",
    "def quick_sort(elements, start, end):\n",
    "    \n",
    "    if start < end:\n",
    "        pi = partition(elements, start, end)\n",
    "        quick_sort(elements, start, pi - 1) # left partition\n",
    "        quick_sort(elements, pi + 1, end) # right partition\n",
    "    \n",
    "if __name__== '__main__':\n",
    "    elements = [11, 9, 29, 7, 2, 15, 28]\n",
    "    quick_sort(elements, 0, len(elements)-1)\n",
    "    print(elements)"
   ]
  },
  {
   "cell_type": "code",
   "execution_count": 16,
   "id": "4aeb8dd1",
   "metadata": {},
   "outputs": [
    {
     "name": "stdout",
     "output_type": "stream",
     "text": [
      "sorted array: [2, 7, 9, 11, 15, 25, 28]\n",
      "sorted array: [3, 7, 9, 11]\n",
      "sorted array: [10, 21, 22, 29]\n",
      "sorted array: []\n",
      "sorted array: [6]\n"
     ]
    }
   ],
   "source": [
    "def swap(a, b, arr):\n",
    "    if a != b:\n",
    "        tmp = arr[a]\n",
    "        arr[a] = arr[b]\n",
    "        arr[b] = tmp\n",
    "\n",
    "def partition(elements, start, end):\n",
    "    pivot_index = start\n",
    "    pivot = elements[pivot_index]\n",
    "    \n",
    "    while start < end:\n",
    "        while start < len(elements) and elements[start] <= pivot:\n",
    "            start += 1\n",
    "\n",
    "        while elements[end] > pivot:\n",
    "            end -= 1 \n",
    "\n",
    "        if start < end:\n",
    "            swap(start, end, elements)\n",
    "        \n",
    "    swap(pivot_index, end, elements)\n",
    "    \n",
    "    return end\n",
    "\n",
    "def quick_sort(elements, start, end):\n",
    "    \n",
    "    if start < end:\n",
    "        pi = partition(elements, start, end)\n",
    "        quick_sort(elements, start, pi - 1) # left partition\n",
    "        quick_sort(elements, pi + 1, end) # right partition\n",
    "    \n",
    "if __name__== '__main__':\n",
    "    elements = [11, 9, 29, 7, 2, 15, 28]\n",
    "    # test cases\n",
    "    tests = [\n",
    "        [11,9,25,7,2,15,28],\n",
    "        [3,7,9,11],\n",
    "        [29,22,21,10],\n",
    "        [],\n",
    "        [6]\n",
    "    ]\n",
    "    \n",
    "    for elements in tests:\n",
    "        quick_sort(elements, 0, len(elements)-1)\n",
    "        print(f'sorted array: {elements}')"
   ]
  },
  {
   "cell_type": "markdown",
   "id": "6bc49e16",
   "metadata": {},
   "source": [
    "#### EXERCISE QUICK SORT"
   ]
  },
  {
   "cell_type": "markdown",
   "id": "517525a6",
   "metadata": {},
   "source": [
    "Implement quick sort using lumoto partition scheme. This partition scheme is explained in the video tutorial, you need to write python code to implement it. Check the pseudo code here: https:/en.wikipedia.org/Quicksort Check the section Lomuto partiton scheme"
   ]
  },
  {
   "cell_type": "markdown",
   "id": "e488c10b",
   "metadata": {},
   "source": [
    "![](pics/wiki.png)"
   ]
  },
  {
   "cell_type": "markdown",
   "id": "3f860271",
   "metadata": {},
   "source": [
    "![](pics/lomuto.png)"
   ]
  },
  {
   "cell_type": "markdown",
   "id": "7b40eec8",
   "metadata": {},
   "source": [
    "This implments quick sort using **Lomoto Partition Scheme**"
   ]
  },
  {
   "cell_type": "code",
   "execution_count": 19,
   "id": "3b78be14",
   "metadata": {},
   "outputs": [
    {
     "name": "stdout",
     "output_type": "stream",
     "text": [
      "sorted_array: [2, 7, 9, 11, 15, 28, 29]\n",
      "sorted_array: [3, 7, 9, 11]\n",
      "sorted_array: [10, 21, 22, 25]\n",
      "sorted_array: [15, 28, 29]\n",
      "sorted_array: []\n",
      "sorted_array: [6]\n"
     ]
    }
   ],
   "source": [
    "def swap(a, b, arr):\n",
    "    if a!=b:\n",
    "        tmp = arr[a]\n",
    "        arr[a] = arr[b]\n",
    "        arr[b] = tmp\n",
    "\n",
    "def quick_sort(elements, start, end):\n",
    "    if len(elements)== 1:\n",
    "        return\n",
    "    if start < end:\n",
    "        pi = partition(elements, start, end)\n",
    "        quick_sort(elements, start, pi-1)\n",
    "        quick_sort(elements, pi+1, end)\n",
    "        \n",
    "def partition(elements, start, end):\n",
    "    pivot = elements[end]\n",
    "    p_index = start\n",
    "    \n",
    "    for i in range(start, end):\n",
    "        if elements[i] <= pivot:\n",
    "            swap(i, p_index, elements)\n",
    "            p_index += 1\n",
    "            \n",
    "    swap(p_index, end, elements)\n",
    "    \n",
    "    return p_index\n",
    "\n",
    "if __name__ == '__main__':\n",
    "    tests = [\n",
    "        [11,9,29,7,2,15,28],\n",
    "        [3, 7, 9, 11],\n",
    "        [25, 22, 21, 10],\n",
    "        [29, 15, 28],\n",
    "        [],\n",
    "        [6]\n",
    "    ]\n",
    "    \n",
    "    for elements in tests:\n",
    "        quick_sort(elements, 0, len(elements)-1)\n",
    "        print(f'sorted_array: {elements}')"
   ]
  },
  {
   "cell_type": "code",
   "execution_count": null,
   "id": "42086d29",
   "metadata": {},
   "outputs": [],
   "source": []
  }
 ],
 "metadata": {
  "kernelspec": {
   "display_name": "Python 3 (ipykernel)",
   "language": "python",
   "name": "python3"
  },
  "language_info": {
   "codemirror_mode": {
    "name": "ipython",
    "version": 3
   },
   "file_extension": ".py",
   "mimetype": "text/x-python",
   "name": "python",
   "nbconvert_exporter": "python",
   "pygments_lexer": "ipython3",
   "version": "3.11.4"
  }
 },
 "nbformat": 4,
 "nbformat_minor": 5
}
