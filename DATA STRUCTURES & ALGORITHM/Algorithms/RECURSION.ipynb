{
 "cells": [
  {
   "cell_type": "markdown",
   "id": "5916d584",
   "metadata": {},
   "source": [
    "![](pics/pizza.png)"
   ]
  },
  {
   "cell_type": "markdown",
   "id": "baf0030c",
   "metadata": {},
   "source": [
    "![](pics/pizza2.png)"
   ]
  },
  {
   "cell_type": "markdown",
   "id": "14425e78",
   "metadata": {},
   "source": [
    "![](pics/pizza3.png)"
   ]
  },
  {
   "cell_type": "markdown",
   "id": "eaccbcbd",
   "metadata": {},
   "source": [
    "![](pics/3steps.png)"
   ]
  },
  {
   "cell_type": "markdown",
   "id": "6418889a",
   "metadata": {},
   "source": [
    "![](pics/find.png)"
   ]
  },
  {
   "cell_type": "markdown",
   "id": "eae1063c",
   "metadata": {},
   "source": [
    "![](pics/findsum.png)"
   ]
  },
  {
   "cell_type": "code",
   "execution_count": 2,
   "id": "22f2bdc2",
   "metadata": {},
   "outputs": [
    {
     "name": "stdout",
     "output_type": "stream",
     "text": [
      "15\n"
     ]
    }
   ],
   "source": [
    "# This is an iterative operation not recursive\n",
    "def find_sum(n):\n",
    "    sum = 0\n",
    "    for i in range(1,n+1):\n",
    "        sum +=i\n",
    "    return sum\n",
    "\n",
    "if __name__=='__main__':\n",
    "    print(find_sum(5))"
   ]
  },
  {
   "cell_type": "code",
   "execution_count": 3,
   "id": "9873838b",
   "metadata": {},
   "outputs": [
    {
     "name": "stdout",
     "output_type": "stream",
     "text": [
      "15\n"
     ]
    }
   ],
   "source": [
    "# recursive approach\n",
    "def find_sum(n):\n",
    "    if n == 1:\n",
    "        return 1\n",
    "    return n + find_sum(n-1)\n",
    "\n",
    "if __name__=='__main__':\n",
    "    print(find_sum(5))"
   ]
  },
  {
   "cell_type": "code",
   "execution_count": 4,
   "id": "bbe801e8",
   "metadata": {},
   "outputs": [
    {
     "name": "stdout",
     "output_type": "stream",
     "text": [
      "21\n"
     ]
    }
   ],
   "source": [
    "# recursive approach\n",
    "def find_sum(n):\n",
    "    if n == 1:\n",
    "        return 1\n",
    "    return n + find_sum(n-1)\n",
    "\n",
    "if __name__=='__main__':\n",
    "    print(find_sum(6))"
   ]
  },
  {
   "cell_type": "code",
   "execution_count": 6,
   "id": "01b677cb",
   "metadata": {},
   "outputs": [
    {
     "name": "stdout",
     "output_type": "stream",
     "text": [
      "0\n"
     ]
    }
   ],
   "source": [
    "# fibonacci series is a recursive problem\n",
    "# 0,1,1,2,3,5,8,13\n",
    "# ----------------\n",
    "# 0,1,2,3,4,5,6,7\n",
    "\n",
    "def fib(n):\n",
    "    if n ==0 or n == 1:\n",
    "        return n\n",
    "\n",
    "if __name__=='__main__':\n",
    "    print(fib(0))"
   ]
  },
  {
   "cell_type": "code",
   "execution_count": 7,
   "id": "3a8ba6bf",
   "metadata": {},
   "outputs": [
    {
     "name": "stdout",
     "output_type": "stream",
     "text": [
      "1\n"
     ]
    }
   ],
   "source": [
    "def fib(n):\n",
    "    if n ==0 or n == 1:\n",
    "        return n\n",
    "\n",
    "if __name__=='__main__':\n",
    "    print(fib(1))"
   ]
  },
  {
   "cell_type": "code",
   "execution_count": 9,
   "id": "654730a3",
   "metadata": {},
   "outputs": [
    {
     "name": "stdout",
     "output_type": "stream",
     "text": [
      "8\n"
     ]
    }
   ],
   "source": [
    "# fibonacci series is a recursive problem\n",
    "# 0,1,1,2,3,5,8,13\n",
    "# ----------------\n",
    "# 0,1,2,3,4,5,6,7\n",
    "def fib(n):\n",
    "    if n ==0 or n == 1:\n",
    "        return n\n",
    "    return fib(n-1) + fib(n-2)\n",
    "\n",
    "if __name__=='__main__':\n",
    "    print(fib(6))"
   ]
  },
  {
   "cell_type": "code",
   "execution_count": 10,
   "id": "690974f0",
   "metadata": {},
   "outputs": [
    {
     "name": "stdout",
     "output_type": "stream",
     "text": [
      "3\n"
     ]
    }
   ],
   "source": [
    "# fibonacci series is a recursive problem\n",
    "# 0,1,1,2,3,5,8,13\n",
    "# ----------------\n",
    "# 0,1,2,3,4,5,6,7\n",
    "def fib(n):\n",
    "    if n ==0 or n == 1:\n",
    "        return n\n",
    "    return fib(n-1) + fib(n-2)\n",
    "\n",
    "if __name__=='__main__':\n",
    "    print(fib(4))"
   ]
  },
  {
   "cell_type": "code",
   "execution_count": 11,
   "id": "abe06ae4",
   "metadata": {},
   "outputs": [
    {
     "name": "stdout",
     "output_type": "stream",
     "text": [
      "13\n"
     ]
    }
   ],
   "source": [
    "# fibonacci series is a recursive problem\n",
    "# 0,1,1,2,3,5,8,13\n",
    "# ----------------\n",
    "# 0,1,2,3,4,5,6,7\n",
    "def fib(n):\n",
    "    if n ==0 or n == 1:\n",
    "        return n\n",
    "    return fib(n-1) + fib(n-2)\n",
    "\n",
    "if __name__=='__main__':\n",
    "    print(fib(7))"
   ]
  },
  {
   "cell_type": "markdown",
   "id": "9fa57785",
   "metadata": {},
   "source": [
    "If you want to be a complete programmer and be able to pass interviews you need to have an understanding of **Recursive**."
   ]
  },
  {
   "cell_type": "code",
   "execution_count": null,
   "id": "512cfdfa",
   "metadata": {},
   "outputs": [],
   "source": [
    "## Recursive Excercise\n",
    "**Link:** w3resource.com/python-exercises/data-structures-and-algorithms/python-recursion.php"
   ]
  }
 ],
 "metadata": {
  "kernelspec": {
   "display_name": "Python 3 (ipykernel)",
   "language": "python",
   "name": "python3"
  },
  "language_info": {
   "codemirror_mode": {
    "name": "ipython",
    "version": 3
   },
   "file_extension": ".py",
   "mimetype": "text/x-python",
   "name": "python",
   "nbconvert_exporter": "python",
   "pygments_lexer": "ipython3",
   "version": "3.11.4"
  }
 },
 "nbformat": 4,
 "nbformat_minor": 5
}
