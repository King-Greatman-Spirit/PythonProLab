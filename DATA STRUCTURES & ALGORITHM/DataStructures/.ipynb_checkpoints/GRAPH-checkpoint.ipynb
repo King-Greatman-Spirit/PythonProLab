{
 "cells": [
  {
   "cell_type": "markdown",
   "id": "cbe6ae70",
   "metadata": {},
   "source": [
    "![](pics/undirected_graph.png)"
   ]
  },
  {
   "cell_type": "markdown",
   "id": "94054878",
   "metadata": {},
   "source": [
    "![](pics/direted_graph.png)"
   ]
  },
  {
   "cell_type": "markdown",
   "id": "671f13d7",
   "metadata": {},
   "source": [
    "In tree data structure there should be only one path between two nodes, that's the different between tree and graph data structure."
   ]
  },
  {
   "cell_type": "markdown",
   "id": "cded2f4b",
   "metadata": {},
   "source": [
    "The below figure is an example of a Weighted Graph."
   ]
  },
  {
   "cell_type": "markdown",
   "id": "a4d8d7df",
   "metadata": {},
   "source": [
    "![](pics/weight_graph.png)"
   ]
  },
  {
   "cell_type": "markdown",
   "id": "9f00b0c4",
   "metadata": {},
   "source": [
    "Examples of graph we use in our day-to-day life:\n",
    "google map, the internet, facebook, amazon, etc.\n",
    "\n",
    "Graph and Tree are recursive data structures."
   ]
  },
  {
   "cell_type": "code",
   "execution_count": 7,
   "id": "f49556d2",
   "metadata": {},
   "outputs": [
    {
     "name": "stdout",
     "output_type": "stream",
     "text": [
      "Graph dict: {'Mumbai': ['Paris', 'Dubai'], 'Paris': ['Dubai', 'New York'], 'Dubai': ['New York'], 'New York': ['Toronto']}\n",
      "Paths between Mumbai and Mumbai:  [['Mumbai']]\n"
     ]
    }
   ],
   "source": [
    "class Graph:\n",
    "    def __init__(self, edges):\n",
    "        self.edges = edges\n",
    "        self.graph_dict = {}\n",
    "        for start, end in self.edges:\n",
    "            if start in self.graph_dict:\n",
    "                self.graph_dict[start].append(end)\n",
    "            else:\n",
    "                self.graph_dict[start] = [end]\n",
    "        print(\"Graph dict:\",self.graph_dict)\n",
    "        \n",
    "    def get_paths(self, start, end, path=[]):\n",
    "        path += [start]\n",
    "        if start == end:\n",
    "            return [path]\n",
    "\n",
    "\n",
    "if __name__ == '__main__':\n",
    "    routes = [\n",
    "        (\"Mumbai\", \"Paris\"),\n",
    "        (\"Mumbai\", \"Dubai\"),\n",
    "        (\"Paris\", \"Dubai\"),\n",
    "        (\"Paris\", \"New York\"),\n",
    "        (\"Dubai\", \"New York\"),\n",
    "        (\"New York\", \"Toronto\"),\n",
    "    ]\n",
    "    \n",
    "    route_graph = Graph(routes)\n",
    "    \n",
    "    start = \"Mumbai\"\n",
    "    end = \"Mumbai\"\n",
    "    \n",
    "    print(f\"Paths between {start} and {end}: \", route_graph.get_paths(start,end))\n",
    "    \n",
    "#     d = {\n",
    "#         \"Mumbai\": [\"Paris\",\"Dubai\"],\n",
    "#         \"Paris\": [\"Dubai\",\"New York\"]\n",
    "#     }\n"
   ]
  },
  {
   "cell_type": "code",
   "execution_count": 9,
   "id": "5f7d0413",
   "metadata": {},
   "outputs": [
    {
     "name": "stdout",
     "output_type": "stream",
     "text": [
      "Graph dict: {'Mumbai': ['Paris', 'Dubai'], 'Paris': ['Dubai', 'New York'], 'Dubai': ['New York'], 'New York': ['Toronto']}\n",
      "Paths between Toronto and Mumbai:  []\n"
     ]
    }
   ],
   "source": [
    "class Graph:\n",
    "    def __init__(self, edges):\n",
    "        self.edges = edges\n",
    "        self.graph_dict = {}\n",
    "        for start, end in self.edges:\n",
    "            if start in self.graph_dict:\n",
    "                self.graph_dict[start].append(end)\n",
    "            else:\n",
    "                self.graph_dict[start] = [end]\n",
    "        print(\"Graph dict:\",self.graph_dict)\n",
    "        \n",
    "    def get_paths(self, start, end, path=[]):\n",
    "        path += [start]\n",
    "        \n",
    "        if start == end:\n",
    "            return [path]\n",
    "        \n",
    "        if start not in self.graph_dict:\n",
    "            return []\n",
    "\n",
    "\n",
    "if __name__ == '__main__':\n",
    "    routes = [\n",
    "        (\"Mumbai\", \"Paris\"),\n",
    "        (\"Mumbai\", \"Dubai\"),\n",
    "        (\"Paris\", \"Dubai\"),\n",
    "        (\"Paris\", \"New York\"),\n",
    "        (\"Dubai\", \"New York\"),\n",
    "        (\"New York\", \"Toronto\"),\n",
    "    ]\n",
    "    \n",
    "    route_graph = Graph(routes)\n",
    "    \n",
    "    start = \"Toronto\"\n",
    "    end = \"Mumbai\"\n",
    "    \n",
    "    print(f\"Paths between {start} and {end}: \", route_graph.get_paths(start,end))\n",
    "    \n",
    "    "
   ]
  },
  {
   "cell_type": "code",
   "execution_count": 1,
   "id": "fa3bf844",
   "metadata": {},
   "outputs": [
    {
     "name": "stdout",
     "output_type": "stream",
     "text": [
      "Graph dict: {'Mumbai': ['Paris', 'Dubai'], 'Paris': ['Dubai', 'New York'], 'Dubai': ['New York'], 'New York': ['Toronto']}\n",
      "Paths between Mumbai and New York:  [['Mumbai', 'Paris', 'Dubai', 'New York']]\n"
     ]
    }
   ],
   "source": [
    "class Graph:\n",
    "    def __init__(self, edges):\n",
    "        self.edges = edges\n",
    "        self.graph_dict = {}\n",
    "        for start, end in self.edges:\n",
    "            if start in self.graph_dict:\n",
    "                self.graph_dict[start].append(end)\n",
    "            else:\n",
    "                self.graph_dict[start] = [end]\n",
    "        print(\"Graph dict:\",self.graph_dict)\n",
    "        \n",
    "    def get_paths(self, start, end, path=[]):\n",
    "        path += [start]\n",
    "        \n",
    "        if start == end:\n",
    "            return [path]\n",
    "        \n",
    "        if start not in self.graph_dict:\n",
    "            return []\n",
    "        \n",
    "        paths = []\n",
    "        \n",
    "        for node in self.graph_dict[start]:\n",
    "            if node not in path:\n",
    "                new_paths = self.get_paths(node, end, path)\n",
    "                for p in new_paths:\n",
    "                    paths.append(p)\n",
    "                    \n",
    "        return paths\n",
    "\n",
    "\n",
    "if __name__ == '__main__':\n",
    "    routes = [\n",
    "        (\"Mumbai\", \"Paris\"),\n",
    "        (\"Mumbai\", \"Dubai\"),\n",
    "        (\"Paris\", \"Dubai\"),\n",
    "        (\"Paris\", \"New York\"),\n",
    "        (\"Dubai\", \"New York\"),\n",
    "        (\"New York\", \"Toronto\"),\n",
    "    ]\n",
    "    \n",
    "    route_graph = Graph(routes)\n",
    "    \n",
    "    start = \"Mumbai\"\n",
    "    end = \"New York\"\n",
    "    \n",
    "    print(f\"Paths between {start} and {end}: \", route_graph.get_paths(start,end))\n",
    "    \n",
    "    "
   ]
  },
  {
   "cell_type": "code",
   "execution_count": 3,
   "id": "69bde548",
   "metadata": {},
   "outputs": [
    {
     "name": "stdout",
     "output_type": "stream",
     "text": [
      "Graph dict: {'Mumbai': ['Paris', 'Dubai'], 'Paris': ['Dubai', 'New York'], 'Dubai': ['New York'], 'New York': ['Toronto']}\n",
      "Paths between Toronto and New York:  None\n"
     ]
    }
   ],
   "source": [
    "class Graph:\n",
    "    def __init__(self, edges):\n",
    "        self.edges = edges\n",
    "        self.graph_dict = {}\n",
    "        for start, end in self.edges:\n",
    "            if start in self.graph_dict:\n",
    "                self.graph_dict[start].append(end)\n",
    "            else:\n",
    "                self.graph_dict[start] = [end]\n",
    "        print(\"Graph dict:\",self.graph_dict)\n",
    "        \n",
    "    def get_paths(self, start, end, path=[]):\n",
    "        path += [start]\n",
    "        \n",
    "        if start == end:\n",
    "            return [path]\n",
    "        \n",
    "        if start not in self.graph_dict:\n",
    "            return []\n",
    "        \n",
    "        paths = []\n",
    "        \n",
    "        for node in self.graph_dict[start]:\n",
    "            if node not in path:\n",
    "                new_paths = self.get_paths(node, end, path)\n",
    "                for p in new_paths:\n",
    "                    paths.append(p)\n",
    "                    \n",
    "        return paths\n",
    "    \n",
    "    def get_Shortest_path(self, start, end, path=[]):\n",
    "        \n",
    "        if start not in self.graph_dict:\n",
    "            return None\n",
    "    \n",
    "    \n",
    "    \n",
    "\n",
    "\n",
    "if __name__ == '__main__':\n",
    "    routes = [\n",
    "        (\"Mumbai\", \"Paris\"),\n",
    "        (\"Mumbai\", \"Dubai\"),\n",
    "        (\"Paris\", \"Dubai\"),\n",
    "        (\"Paris\", \"New York\"),\n",
    "        (\"Dubai\", \"New York\"),\n",
    "        (\"New York\", \"Toronto\"),\n",
    "    ]\n",
    "    \n",
    "    route_graph = Graph(routes)\n",
    "    \n",
    "    start = \"Toronto\"\n",
    "    end = \"New York\"\n",
    "    \n",
    "    print(f\"Paths between {start} and {end}: \", route_graph.get_Shortest_path(start,end))\n",
    "    \n",
    "    "
   ]
  },
  {
   "cell_type": "code",
   "execution_count": 4,
   "id": "d8312cf8",
   "metadata": {},
   "outputs": [
    {
     "name": "stdout",
     "output_type": "stream",
     "text": [
      "Graph dict: {'Mumbai': ['Paris', 'Dubai'], 'Paris': ['Dubai', 'New York'], 'Dubai': ['New York'], 'New York': ['Toronto']}\n",
      "Paths between New York and New York:  ['New York']\n"
     ]
    }
   ],
   "source": [
    "class Graph:\n",
    "    def __init__(self, edges):\n",
    "        self.edges = edges\n",
    "        self.graph_dict = {}\n",
    "        for start, end in self.edges:\n",
    "            if start in self.graph_dict:\n",
    "                self.graph_dict[start].append(end)\n",
    "            else:\n",
    "                self.graph_dict[start] = [end]\n",
    "        print(\"Graph dict:\",self.graph_dict)\n",
    "        \n",
    "    def get_paths(self, start, end, path=[]):\n",
    "        path += [start]\n",
    "        \n",
    "        if start == end:\n",
    "            return [path]\n",
    "        \n",
    "        if start not in self.graph_dict:\n",
    "            return []\n",
    "        \n",
    "        paths = []\n",
    "        \n",
    "        for node in self.graph_dict[start]:\n",
    "            if node not in path:\n",
    "                new_paths = self.get_paths(node, end, path)\n",
    "                for p in new_paths:\n",
    "                    paths.append(p)\n",
    "                    \n",
    "        return paths\n",
    "    \n",
    "    def get_Shortest_path(self, start, end, path=[]):\n",
    "        path += [start]\n",
    "        \n",
    "        if start == end:\n",
    "            return path \n",
    "        if start not in self.graph_dict:\n",
    "            return None\n",
    "    \n",
    "\n",
    "if __name__ == '__main__':\n",
    "    routes = [\n",
    "        (\"Mumbai\", \"Paris\"),\n",
    "        (\"Mumbai\", \"Dubai\"),\n",
    "        (\"Paris\", \"Dubai\"),\n",
    "        (\"Paris\", \"New York\"),\n",
    "        (\"Dubai\", \"New York\"),\n",
    "        (\"New York\", \"Toronto\"),\n",
    "    ]\n",
    "    \n",
    "    route_graph = Graph(routes)\n",
    "    \n",
    "    start = \"New York\"\n",
    "    end = \"New York\"\n",
    "    \n",
    "    print(f\"Paths between {start} and {end}: \", route_graph.get_Shortest_path(start,end))\n",
    "    \n",
    "    "
   ]
  },
  {
   "cell_type": "code",
   "execution_count": 7,
   "id": "b60009d8",
   "metadata": {},
   "outputs": [
    {
     "name": "stdout",
     "output_type": "stream",
     "text": [
      "Graph dict: {'Mumbai': ['Paris', 'Dubai'], 'Paris': ['Dubai', 'New York'], 'Dubai': ['New York'], 'New York': ['Toronto']}\n",
      "Paths between Mumbai and New York:  ['Mumbai', 'Paris', 'Dubai', 'New York']\n"
     ]
    }
   ],
   "source": [
    "class Graph:\n",
    "    def __init__(self, edges):\n",
    "        self.edges = edges\n",
    "        self.graph_dict = {}\n",
    "        for start, end in self.edges:\n",
    "            if start in self.graph_dict:\n",
    "                self.graph_dict[start].append(end)\n",
    "            else:\n",
    "                self.graph_dict[start] = [end]\n",
    "        print(\"Graph dict:\",self.graph_dict)\n",
    "        \n",
    "    def get_paths(self, start, end, path=[]):\n",
    "        path += [start]\n",
    "        \n",
    "        if start == end:\n",
    "            return [path]\n",
    "        \n",
    "        if start not in self.graph_dict:\n",
    "            return []\n",
    "        \n",
    "        paths = []\n",
    "        \n",
    "        for node in self.graph_dict[start]:\n",
    "            if node not in path:\n",
    "                new_paths = self.get_paths(node, end, path)\n",
    "                for p in new_paths:\n",
    "                    paths.append(p)\n",
    "                    \n",
    "        return paths\n",
    "    \n",
    "    def get_shortest_path(self, start, end, path=[]):\n",
    "        path += [start]\n",
    "        \n",
    "        if start == end:\n",
    "            return path \n",
    "        if start not in self.graph_dict:\n",
    "            return None\n",
    "        \n",
    "        shortest_path = None\n",
    "        for node in self.graph_dict[start]:\n",
    "            if node not in path:\n",
    "                sp = self.get_shortest_path(node, end, path)\n",
    "                if sp:\n",
    "                    if shortest_path is None or len(sp) < len(shortest_path):\n",
    "                        shortest_path = sp \n",
    "                        \n",
    "            return shortest_path\n",
    "    \n",
    "\n",
    "if __name__ == '__main__':\n",
    "    routes = [\n",
    "        (\"Mumbai\", \"Paris\"),\n",
    "        (\"Mumbai\", \"Dubai\"),\n",
    "        (\"Paris\", \"Dubai\"),\n",
    "        (\"Paris\", \"New York\"),\n",
    "        (\"Dubai\", \"New York\"),\n",
    "        (\"New York\", \"Toronto\"),\n",
    "    ]\n",
    "    \n",
    "    route_graph = Graph(routes)\n",
    "    \n",
    "    start = \"Mumbai\"\n",
    "    end = \"New York\"\n",
    "    \n",
    "    print(f\"Paths between {start} and {end}: \", route_graph.get_shortest_path(start,end))\n",
    "    \n",
    "    "
   ]
  },
  {
   "cell_type": "code",
   "execution_count": null,
   "id": "d537e22f",
   "metadata": {},
   "outputs": [],
   "source": []
  }
 ],
 "metadata": {
  "kernelspec": {
   "display_name": "Python 3 (ipykernel)",
   "language": "python",
   "name": "python3"
  },
  "language_info": {
   "codemirror_mode": {
    "name": "ipython",
    "version": 3
   },
   "file_extension": ".py",
   "mimetype": "text/x-python",
   "name": "python",
   "nbconvert_exporter": "python",
   "pygments_lexer": "ipython3",
   "version": "3.11.4"
  }
 },
 "nbformat": 4,
 "nbformat_minor": 5
}
