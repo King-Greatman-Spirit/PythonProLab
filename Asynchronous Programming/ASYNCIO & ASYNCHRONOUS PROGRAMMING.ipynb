{
 "cells": [
  {
   "cell_type": "markdown",
   "id": "a6ec3e8e",
   "metadata": {},
   "source": [
    " Asynchronous Programming is not Multi-Threading or Multi-Processing. It is concurrent programming"
   ]
  },
  {
   "cell_type": "markdown",
   "id": "df6625c1",
   "metadata": {},
   "source": [
    "func1()\n",
    "func2()\n",
    "func3()\n",
    "\n",
    "In SynchronousPrograming, we are going to call func2() when func1() is done and call func3() when func2() is done.\n",
    "\n",
    "In Multi-Threading or Multi-Processing, we run all the 3 functions simultaneously.\n",
    "\n",
    "In Asynchronous Programming, we only run one func at a time but spectacular thing about this is that, when we run func1() and func1() is waiting for the cpu or sleeping or dormant, we can as well run func2() and even func3() during that waiting process. "
   ]
  },
  {
   "cell_type": "code",
   "execution_count": null,
   "id": "41b6689b",
   "metadata": {},
   "outputs": [],
   "source": [
    "import asyncio # Asynchronous library\n",
    "\n",
    "async def main():\n",
    "    print(\"A\")\n",
    "    await asyncio.sleep(1)\n",
    "    print(\"B\")\n",
    "    \n",
    "asyncio.run(main())"
   ]
  },
  {
   "cell_type": "code",
   "execution_count": null,
   "id": "69b44b81",
   "metadata": {},
   "outputs": [],
   "source": [
    "import asyncio # Asynchronous library\n",
    "\n",
    "async def main():\n",
    "    print(\"A\")\n",
    "    await other_function()\n",
    "    print(\"B\")\n",
    "    \n",
    "async def other_function():\n",
    "    print(\"1\")\n",
    "    await asyncio.sleep(2 )\n",
    "    print(\"2\")\n",
    "    \n",
    "asyncio.run(main())"
   ]
  },
  {
   "cell_type": "code",
   "execution_count": null,
   "id": "0865921c",
   "metadata": {},
   "outputs": [],
   "source": [
    "import asyncio # Asynchronous library\n",
    "\n",
    "async def main():\n",
    "    task = asyncio.create_task(other_function())\n",
    "    print(\"A\")\n",
    "    print(\"B\")\n",
    "    \n",
    "async def other_function():\n",
    "    print(\"1\")\n",
    "    await asyncio.sleep(2)\n",
    "    print(\"2\")\n",
    "    \n",
    "asyncio.run(main())"
   ]
  },
  {
   "cell_type": "code",
   "execution_count": null,
   "id": "f03b9c5d",
   "metadata": {},
   "outputs": [],
   "source": [
    "import asyncio # Asynchronous library\n",
    "\n",
    "async def main():\n",
    "    task = asyncio.create_task(other_function())\n",
    "    print(\"A\")\n",
    "    print(\"B\")\n",
    "    await task\n",
    "    \n",
    "async def other_function():\n",
    "    print(\"1\")\n",
    "    await asyncio.sleep(2)\n",
    "    print(\"2\")\n",
    "    \n",
    "asyncio.run(main())"
   ]
  },
  {
   "cell_type": "code",
   "execution_count": null,
   "id": "71997149",
   "metadata": {},
   "outputs": [],
   "source": [
    "import asyncio # Asynchronous library\n",
    "\n",
    "async def main():\n",
    "    task = asyncio.create_task(other_function())\n",
    "    print(\"A\")\n",
    "    await asyncio.sleep(1)\n",
    "    print(\"B\")\n",
    "    \n",
    "async def other_function():\n",
    "    print(\"1\")\n",
    "    await asyncio.sleep(2)\n",
    "    print(\"2\")\n",
    "    \n",
    "asyncio.run(main()) "
   ]
  },
  {
   "cell_type": "code",
   "execution_count": null,
   "id": "7fb53c43",
   "metadata": {},
   "outputs": [],
   "source": [
    "import asyncio # Asynchronous library\n",
    "\n",
    "async def main():\n",
    "    task = asyncio.create_task(other_function())\n",
    "    print(\"A\")\n",
    "    await asyncio.sleep(1)\n",
    "    print(\"B\")\n",
    "    await task\n",
    "    \n",
    "async def other_function():\n",
    "    print(\"1\")\n",
    "    await asyncio.sleep(2)\n",
    "    print(\"2\")\n",
    "    \n",
    "asyncio.run(main()) "
   ]
  },
  {
   "cell_type": "code",
   "execution_count": null,
   "id": "242e2e79",
   "metadata": {},
   "outputs": [],
   "source": [
    "import asyncio # Asynchronous library\n",
    "\n",
    "async def main():\n",
    "    task = asyncio.create_task(other_function())\n",
    "    await task\n",
    "    print(\"A\")\n",
    "    await asyncio.sleep(1)\n",
    "    print(\"B\")\n",
    "    \n",
    "async def other_function():\n",
    "    print(\"1\")\n",
    "    await asyncio.sleep(2)\n",
    "    print(\"2\")\n",
    "    \n",
    "asyncio.run(main()) "
   ]
  },
  {
   "cell_type": "markdown",
   "id": "a6ab6dd5",
   "metadata": {},
   "source": [
    "### Return Value"
   ]
  },
  {
   "cell_type": "code",
   "execution_count": null,
   "id": "76b8f87e",
   "metadata": {},
   "outputs": [],
   "source": [
    "import asyncio # Asynchronous library\n",
    "\n",
    "async def main():\n",
    "    task = asyncio.create_task(other_function())\n",
    "    print(\"A\")\n",
    "    await asyncio.sleep(5)\n",
    "    print(\"B\")\n",
    "    \n",
    "async def other_function():\n",
    "    print(\"1\")\n",
    "    await asyncio.sleep(2)\n",
    "    print(\"2\")\n",
    "    \n",
    "asyncio.run(main()) "
   ]
  },
  {
   "cell_type": "code",
   "execution_count": null,
   "id": "5e0aea60",
   "metadata": {},
   "outputs": [],
   "source": [
    "import asyncio # Asynchronous library\n",
    "\n",
    "async def main():\n",
    "    task = asyncio.create_task(other_function())\n",
    "    print(\"A\")\n",
    "    await asyncio.sleep(5)\n",
    "    print(\"B\")\n",
    "    return_value = await task\n",
    "    print(f\"Return value was {{return_value}}\")\n",
    "    \n",
    "async def other_function():\n",
    "    print(\"1\")\n",
    "    await asyncio.sleep(2)\n",
    "    print(\"2\")\n",
    "    \n",
    "asyncio.run(main()) "
   ]
  },
  {
   "cell_type": "code",
   "execution_count": null,
   "id": "eaad64d4",
   "metadata": {},
   "outputs": [],
   "source": [
    "import asyncio # Asynchronous library\n",
    "\n",
    "async def main():\n",
    "    task = asyncio.create_task(other_function())\n",
    "    return_value = await task\n",
    "    print(\"A\")\n",
    "    await asyncio.sleep(5)\n",
    "    print(\"B\")\n",
    "    print(f\"Return value was {{return_value}}\")\n",
    "    \n",
    "async def other_function():\n",
    "    print(\"1\")\n",
    "    await asyncio.sleep(2)\n",
    "    print(\"2\")\n",
    "    \n",
    "asyncio.run(main()) "
   ]
  },
  {
   "cell_type": "code",
   "execution_count": null,
   "id": "857ebe14",
   "metadata": {},
   "outputs": [],
   "source": [
    "import asyncio # Asynchronous library\n",
    "\n",
    "async def main():\n",
    "    task = asyncio.create_task(other_function())\n",
    "    return_value = await task\n",
    "    print(\"A\")\n",
    "    await asyncio.sleep(1)\n",
    "    print(\"B\")\n",
    "    print(f\"Return value was {{return_value}}\")\n",
    "    \n",
    "async def other_function():\n",
    "    print(\"1\")\n",
    "    await asyncio.sleep(2)\n",
    "    print(\"2\")\n",
    "    \n",
    "asyncio.run(main()) "
   ]
  },
  {
   "cell_type": "code",
   "execution_count": null,
   "id": "203a1188",
   "metadata": {},
   "outputs": [],
   "source": []
  },
  {
   "cell_type": "code",
   "execution_count": null,
   "id": "db8b4bfb",
   "metadata": {},
   "outputs": [],
   "source": []
  }
 ],
 "metadata": {
  "kernelspec": {
   "display_name": "Python 3 (ipykernel)",
   "language": "python",
   "name": "python3"
  },
  "language_info": {
   "codemirror_mode": {
    "name": "ipython",
    "version": 3
   },
   "file_extension": ".py",
   "mimetype": "text/x-python",
   "name": "python",
   "nbconvert_exporter": "python",
   "pygments_lexer": "ipython3",
   "version": "3.11.4"
  }
 },
 "nbformat": 4,
 "nbformat_minor": 5
}
