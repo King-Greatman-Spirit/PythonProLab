{
 "cells": [
  {
   "cell_type": "markdown",
   "id": "5c9d1b60",
   "metadata": {},
   "source": [
    "Regular Expressions, also known as “regex in Python”, are used to match strings of text such as particular characters, words, or patterns of characters. It means that we can match and extract any string pattern from the text with the help of regular expressions."
   ]
  },
  {
   "cell_type": "code",
   "execution_count": 1,
   "id": "72164aca",
   "metadata": {},
   "outputs": [
    {
     "name": "stdout",
     "output_type": "stream",
     "text": [
      "None\n",
      "None\n",
      "<re.Match object; span=(0, 10), match='HELLOWORLD'>\n"
     ]
    }
   ],
   "source": [
    "import re\n",
    "\n",
    "# Uppercase\n",
    "pattern = re.compile(\"^[A-Z]+$\")\n",
    "print(pattern.search(\"Hello World\"))\n",
    "print(pattern.search(\"HELLO WORLD\"))\n",
    "print(pattern.search(\"HELLOWORLD\"))"
   ]
  },
  {
   "cell_type": "code",
   "execution_count": 2,
   "id": "41c80292",
   "metadata": {},
   "outputs": [
    {
     "name": "stdout",
     "output_type": "stream",
     "text": [
      "None\n",
      "None\n",
      "None\n"
     ]
    }
   ],
   "source": [
    "import re\n",
    "\n",
    "pattern = re.compile(\"^[A-Z]+$\")\n",
    "print(pattern.search(\"Hello World\"))\n",
    "print(pattern.search(\"HELLO WORLD\"))\n",
    "print(pattern.search(\"HELLOWORLD \"))"
   ]
  },
  {
   "cell_type": "code",
   "execution_count": 4,
   "id": "9df29a44",
   "metadata": {},
   "outputs": [
    {
     "name": "stdout",
     "output_type": "stream",
     "text": [
      "None\n",
      "None\n",
      "<re.Match object; span=(0, 10), match='helloworld'>\n"
     ]
    }
   ],
   "source": [
    "import re\n",
    "\n",
    "# Lowercase\n",
    "pattern = re.compile(\"^[a-z]+$\")\n",
    "print(pattern.search(\"Hello World\"))\n",
    "print(pattern.search(\"hello world\"))\n",
    "print(pattern.search(\"helloworld\"))"
   ]
  },
  {
   "cell_type": "code",
   "execution_count": 6,
   "id": "56fbf63d",
   "metadata": {},
   "outputs": [
    {
     "name": "stdout",
     "output_type": "stream",
     "text": [
      "<re.Match object; span=(1, 5), match='ello'>\n",
      "<re.Match object; span=(0, 5), match='hello'>\n",
      "<re.Match object; span=(0, 10), match='helloworld'>\n"
     ]
    }
   ],
   "source": [
    "import re\n",
    "\n",
    "# Lowercase and ommiting '^ $'\n",
    "pattern = re.compile(\"[a-z]+\")\n",
    "print(pattern.search(\"Hello World\"))\n",
    "print(pattern.search(\"hello world\"))\n",
    "print(pattern.search(\"helloworld\"))"
   ]
  },
  {
   "cell_type": "code",
   "execution_count": 7,
   "id": "feb18945",
   "metadata": {},
   "outputs": [
    {
     "name": "stdout",
     "output_type": "stream",
     "text": [
      "None\n",
      "<re.Match object; span=(0, 5), match='hello'>\n",
      "<re.Match object; span=(0, 10), match='helloworld'>\n"
     ]
    }
   ],
   "source": [
    "import re\n",
    "\n",
    "# Lowercase and ommiting '^ $'\n",
    "pattern = re.compile(\"[a-z]+\")\n",
    "print(pattern.match(\"Hello World\"))\n",
    "print(pattern.match(\"hello world\"))\n",
    "print(pattern.match(\"helloworld\"))"
   ]
  },
  {
   "cell_type": "code",
   "execution_count": 10,
   "id": "64505248",
   "metadata": {},
   "outputs": [
    {
     "name": "stdout",
     "output_type": "stream",
     "text": [
      "<re.Match object; span=(0, 11), match='Hello World'>\n",
      "<re.Match object; span=(0, 11), match='hello world'>\n",
      "<re.Match object; span=(0, 10), match='helloworld'>\n"
     ]
    }
   ],
   "source": [
    "import re\n",
    "\n",
    "# allowing lowercase, uppercase and spaces\n",
    "pattern = re.compile(\"[a-zA-Z\\s]+$\")\n",
    "print(pattern.match(\"Hello World\"))\n",
    "print(pattern.match(\"hello world\"))\n",
    "print(pattern.match(\"helloworld\"))"
   ]
  },
  {
   "cell_type": "code",
   "execution_count": 11,
   "id": "d8fbdb27",
   "metadata": {},
   "outputs": [
    {
     "name": "stdout",
     "output_type": "stream",
     "text": [
      "<re.Match object; span=(0, 11), match='Hello World'>\n",
      "<re.Match object; span=(0, 11), match='hello world'>\n",
      "<re.Match object; span=(0, 10), match='helloworld'>\n"
     ]
    }
   ],
   "source": [
    "import re\n",
    "\n",
    "# allowing lowercase, uppercase and spaces\n",
    "pattern = re.compile(\"[a-zA-Z\\s]+$\")\n",
    "print(pattern.search(\"Hello World\"))\n",
    "print(pattern.search(\"hello world\"))\n",
    "print(pattern.search(\"helloworld\"))"
   ]
  },
  {
   "cell_type": "code",
   "execution_count": 14,
   "id": "99078701",
   "metadata": {},
   "outputs": [
    {
     "name": "stdout",
     "output_type": "stream",
     "text": [
      "<re.Match object; span=(0, 10), match='ahd2331#AJ'>\n",
      "<re.Match object; span=(0, 10), match='lll44511.K'>\n",
      "<re.Match object; span=(0, 9), match='lll44511.'>\n",
      "None\n"
     ]
    }
   ],
   "source": [
    "import re\n",
    "\n",
    "# 3 Lowercase letters\n",
    "# 3-5 digits\n",
    "# one symbol\n",
    "# up to two uppercase characters (optional)\n",
    "\n",
    "pattern = re.compile(\"^[a-z]{3}[0-9]{3,5}[^a-zA-Z0-9]{1}[A-Z]{0,2}$\")\n",
    "print(pattern.search(\"ahd2331#AJ\"))\n",
    "print(pattern.search(\"lll44511.K\"))\n",
    "print(pattern.search(\"lll44511.\"))\n",
    "print(pattern.search(\"abc123456#JJ\"))"
   ]
  },
  {
   "cell_type": "code",
   "execution_count": 16,
   "id": "d0630a4d",
   "metadata": {},
   "outputs": [
    {
     "name": "stdout",
     "output_type": "stream",
     "text": [
      "<re.Match object; span=(0, 10), match='abcdefghij'>\n",
      "<re.Match object; span=(0, 10), match='0123456789'>\n",
      "<re.Match object; span=(0, 10), match='0.2#4JJ 89'>\n",
      "None\n",
      "None\n"
     ]
    }
   ],
   "source": [
    "import re\n",
    "\n",
    "# get any string with the length of 10\n",
    "pattern = re.compile(\"^.{10}$\")\n",
    "print(pattern.search(\"abcdefghij\"))\n",
    "print(pattern.search(\"0123456789\"))\n",
    "print(pattern.search(\"0.2#4JJ 89\"))\n",
    "print(pattern.search(\"abcdefghijk\"))\n",
    "print(pattern.search(\"abcdeFGHI\"))"
   ]
  },
  {
   "cell_type": "code",
   "execution_count": 17,
   "id": "4f88d88e",
   "metadata": {},
   "outputs": [
    {
     "name": "stdout",
     "output_type": "stream",
     "text": [
      "<re.Match object; span=(0, 19), match='mail@spirittech.com'>\n",
      "<re.Match object; span=(0, 15), match='mymail@test.com'>\n",
      "<re.Match object; span=(0, 21), match='spiritpydev@gmail.com'>\n",
      "<re.Match object; span=(0, 30), match='my_fancy.e-mail@fancyurl123.ng'>\n",
      "None\n",
      "None\n"
     ]
    }
   ],
   "source": [
    "import re\n",
    "\n",
    "# email validation with regex\n",
    "pattern = re.compile(\"^[a-zA-Z0-9\\.\\-_]+@{1}[a-zA-Z0-9]+\\.{1}[a-zA-Z]{2,3}$\")\n",
    "\n",
    "print(pattern.search(\"mail@spirittech.com\"))\n",
    "print(pattern.search(\"mymail@test.com\"))\n",
    "print(pattern.search(\"spiritpydev@gmail.com\"))\n",
    "print(pattern.search(\"my_fancy.e-mail@fancyurl123.ng\"))\n",
    "print(pattern.search(\"anything.something.com\"))\n",
    "print(pattern.search(\"email@nothing\"))"
   ]
  },
  {
   "cell_type": "code",
   "execution_count": 18,
   "id": "1bd68f2c",
   "metadata": {},
   "outputs": [
    {
     "name": "stdout",
     "output_type": "stream",
     "text": [
      "<re.Match object; span=(0, 19), match='mail@spirittech.com'>\n",
      "None\n",
      "<re.Match object; span=(0, 21), match='spiritpydev@gmail.com'>\n",
      "<re.Match object; span=(0, 30), match='my_fancy.e-mail@fancyurl123.ng'>\n",
      "None\n",
      "None\n"
     ]
    }
   ],
   "source": [
    "import re\n",
    "\n",
    "# email validation with regex\n",
    "pattern = re.compile(\"^[a-zA-Z0-9\\.\\-_]+@{1}[a-zA-Z0-9]+\\.{1}[a-zA-Z]{2,3}$\")\n",
    "\n",
    "print(pattern.search(\"mail@spirittech.com\"))\n",
    "print(pattern.search(\"mymail@test.game\"))\n",
    "print(pattern.search(\"spiritpydev@gmail.com\"))\n",
    "print(pattern.search(\"my_fancy.e-mail@fancyurl123.ng\"))\n",
    "print(pattern.search(\"anything.something.com\"))\n",
    "print(pattern.search(\"email@nothing\"))"
   ]
  },
  {
   "cell_type": "code",
   "execution_count": null,
   "id": "cdb8342a",
   "metadata": {},
   "outputs": [],
   "source": []
  }
 ],
 "metadata": {
  "kernelspec": {
   "display_name": "Python 3 (ipykernel)",
   "language": "python",
   "name": "python3"
  },
  "language_info": {
   "codemirror_mode": {
    "name": "ipython",
    "version": 3
   },
   "file_extension": ".py",
   "mimetype": "text/x-python",
   "name": "python",
   "nbconvert_exporter": "python",
   "pygments_lexer": "ipython3",
   "version": "3.11.4"
  }
 },
 "nbformat": 4,
 "nbformat_minor": 5
}
