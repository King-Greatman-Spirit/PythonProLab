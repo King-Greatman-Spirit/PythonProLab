{
 "cells": [
  {
   "cell_type": "markdown",
   "id": "d8356592",
   "metadata": {},
   "source": [
    "![](pics/106.png)"
   ]
  },
  {
   "cell_type": "code",
   "execution_count": null,
   "id": "eb1284b9",
   "metadata": {},
   "outputs": [],
   "source": [
    "test_string = '123abc456789abc123ABC'\n",
    "\n",
    "test_string = 'python-developer.com'\n",
    "\n",
    "test_string = 'hello 123_ heyho honey'\n",
    "\n",
    "test_string = 'hello 123_'\n",
    "\n",
    "dates = \"\"\"\n",
    "01.04.2020\n",
    "\n",
    "2020.04.01\n",
    "\n",
    "2020-04-01\n",
    "2020-05-23\n",
    "2020-06-11\n",
    "2020-07-11\n",
    "2020-08-11\n",
    "\"\"\""
   ]
  },
  {
   "cell_type": "code",
   "execution_count": 7,
   "id": "35088a7f",
   "metadata": {},
   "outputs": [
    {
     "name": "stdout",
     "output_type": "stream",
     "text": [
      "<re.Match object; span=(3, 6), match='abc'>\n",
      "<re.Match object; span=(12, 15), match='abc'>\n"
     ]
    }
   ],
   "source": [
    "# py has a built-in module called re\n",
    "import re\n",
    "\n",
    "test_string = '123abc456789abc123ABC'\n",
    "\n",
    "pattern = re.compile(r\"abc\")\n",
    "matches = pattern.finditer(test_string)\n",
    "\n",
    "for match in matches:\n",
    "    print(match)"
   ]
  },
  {
   "cell_type": "code",
   "execution_count": 8,
   "id": "d0099154",
   "metadata": {},
   "outputs": [
    {
     "name": "stdout",
     "output_type": "stream",
     "text": [
      "<re.Match object; span=(3, 6), match='abc'>\n",
      "<re.Match object; span=(12, 15), match='abc'>\n",
      "<re.Match object; span=(18, 21), match='ABC'>\n"
     ]
    }
   ],
   "source": [
    "# py has a built-in module called re\n",
    "import re\n",
    "\n",
    "test_string = '123abc456789abc123ABC'\n",
    "\n",
    "pattern = re.compile(r\"abc\", re.I)\n",
    "matches = pattern.finditer(test_string)\n",
    "\n",
    "for match in matches:\n",
    "    print(match)"
   ]
  },
  {
   "cell_type": "code",
   "execution_count": 9,
   "id": "9d0366a6",
   "metadata": {},
   "outputs": [
    {
     "name": "stdout",
     "output_type": "stream",
     "text": [
      "<re.Match object; span=(3, 6), match='abc'>\n",
      "<re.Match object; span=(12, 15), match='abc'>\n"
     ]
    }
   ],
   "source": [
    "# py has a built-in module called re\n",
    "import re\n",
    "\n",
    "test_string = '123abc456789abc123ABC'\n",
    "\n",
    "# pattern = re.compile(r\"abc\")\n",
    "# matches = pattern.finditer(test_string)\n",
    "\n",
    "matches = re.finditer(r\"abc\", test_string)\n",
    "\n",
    "for match in matches:\n",
    "    print(match)"
   ]
  },
  {
   "cell_type": "markdown",
   "id": "53007c03",
   "metadata": {},
   "source": [
    "### r means raw string\n",
    "\n",
    "There are 4 methods:\n",
    "match(), search(), findall(), finditer()\n",
    "\n",
    "mathc() loks for pattern only at the beginning of the string, otherwise it trows \"None\""
   ]
  },
  {
   "cell_type": "code",
   "execution_count": 10,
   "id": "693cacdf",
   "metadata": {},
   "outputs": [
    {
     "name": "stdout",
     "output_type": "stream",
     "text": [
      "\tHello\n"
     ]
    }
   ],
   "source": [
    "a = \"\\tHello\"\n",
    "print(a)"
   ]
  },
  {
   "cell_type": "code",
   "execution_count": 11,
   "id": "a792ec21",
   "metadata": {},
   "outputs": [
    {
     "name": "stdout",
     "output_type": "stream",
     "text": [
      "\\tHello\n"
     ]
    }
   ],
   "source": [
    "a = r\"\\tHello\"\n",
    "print(a)"
   ]
  },
  {
   "cell_type": "markdown",
   "id": "e6786dd4",
   "metadata": {},
   "source": [
    "![](pics/info.png)"
   ]
  },
  {
   "cell_type": "markdown",
   "id": "10f2995f",
   "metadata": {},
   "source": [
    "![](pics/spec_char.png)"
   ]
  },
  {
   "cell_type": "markdown",
   "id": "446906fe",
   "metadata": {},
   "source": [
    "![](pics/quantifier.png)"
   ]
  },
  {
   "cell_type": "code",
   "execution_count": 23,
   "id": "641b966b",
   "metadata": {},
   "outputs": [
    {
     "name": "stdout",
     "output_type": "stream",
     "text": [
      "pythondeveloper@yahoo.com\n",
      "Python-developer@gmx.de\n",
      "python-developer456@my-domain.org\n"
     ]
    }
   ],
   "source": [
    "import re\n",
    "\n",
    "my_string = \"\"\"\n",
    "pythondeveloper@yahoo.com\n",
    "Python-developer@gmx.de\n",
    "python-developer456@my-domain.org\n",
    "\"\"\"\n",
    "\n",
    "pattern = re.compile(r'([A-z0-9-]+)@([A-z0-9-]+)\\.([A-z]+)')\n",
    "matches = pattern.finditer(my_string)\n",
    "for match in matches:\n",
    "    print(match.group(0))"
   ]
  },
  {
   "cell_type": "code",
   "execution_count": 27,
   "id": "ccaf04a7",
   "metadata": {},
   "outputs": [
    {
     "name": "stdout",
     "output_type": "stream",
     "text": [
      "pythondeveloper\n",
      "Python-developer\n",
      "python-developer456\n"
     ]
    }
   ],
   "source": [
    "matches = pattern.finditer(my_string)\n",
    "for match in matches:\n",
    "    print(match.group(1))"
   ]
  },
  {
   "cell_type": "code",
   "execution_count": 28,
   "id": "c08013ea",
   "metadata": {},
   "outputs": [
    {
     "name": "stdout",
     "output_type": "stream",
     "text": [
      "yahoo\n",
      "gmx\n",
      "my-domain\n"
     ]
    }
   ],
   "source": [
    "matches = pattern.finditer(my_string)\n",
    "for match in matches:\n",
    "    print(match.group(2))"
   ]
  },
  {
   "cell_type": "code",
   "execution_count": 29,
   "id": "f3de9b37",
   "metadata": {},
   "outputs": [
    {
     "name": "stdout",
     "output_type": "stream",
     "text": [
      "com\n",
      "de\n",
      "org\n"
     ]
    }
   ],
   "source": [
    "matches = pattern.finditer(my_string)\n",
    "for match in matches:\n",
    "    print(match.group(3))"
   ]
  },
  {
   "cell_type": "markdown",
   "id": "95f517f2",
   "metadata": {},
   "source": [
    "### Modification: \n",
    "    \n",
    "### split(), sub()"
   ]
  },
  {
   "cell_type": "code",
   "execution_count": 36,
   "id": "a26359f5",
   "metadata": {},
   "outputs": [
    {
     "name": "stdout",
     "output_type": "stream",
     "text": [
      "['123', '456789', '123ABC']\n"
     ]
    }
   ],
   "source": [
    "import re\n",
    "# using split()\n",
    "test_str = '123abc456789abc123ABC'\n",
    "pattern = re.compile(r\"abc\")\n",
    "splitted  = pattern.split(test_str)\n",
    "print(splitted)"
   ]
  },
  {
   "cell_type": "code",
   "execution_count": 34,
   "id": "ee762d9a",
   "metadata": {},
   "outputs": [
    {
     "name": "stdout",
     "output_type": "stream",
     "text": [
      "hello world, you are the best world\n",
      "hello planet, you are the best planet\n"
     ]
    }
   ],
   "source": [
    "import re\n",
    "# using sub()\n",
    "test_str = 'hello world, you are the best world'\n",
    "pattern = re.compile(r\"world\")\n",
    "sub_str = pattern.sub(\"planet\", test_str)\n",
    "print(test_str)\n",
    "print(sub_str)"
   ]
  },
  {
   "cell_type": "code",
   "execution_count": 51,
   "id": "cd830bee",
   "metadata": {},
   "outputs": [
    {
     "name": "stdout",
     "output_type": "stream",
     "text": [
      "http://python-developer.com\n",
      "https://www.Python-developer.com\n",
      "http://pyeng.net\n"
     ]
    }
   ],
   "source": [
    "import re\n",
    "\n",
    "urls = \"\"\"\n",
    "http://python-developer.com\n",
    "https://www.Python-developer.com\n",
    "http://pyeng.net\n",
    "\"\"\"\n",
    "\n",
    "pattern = re.compile(r'https?://(www\\.)?([A-z-]+)(\\.[A-z]+)')\n",
    "matches = pattern.finditer(urls)\n",
    "for match in matches:\n",
    "    print(match.group(0))"
   ]
  },
  {
   "cell_type": "code",
   "execution_count": 49,
   "id": "18850c7d",
   "metadata": {},
   "outputs": [
    {
     "name": "stdout",
     "output_type": "stream",
     "text": [
      "<re.Match object; span=(1, 28), match='http://python-developer.com'>\n",
      "<re.Match object; span=(29, 61), match='https://www.Python-developer.com'>\n",
      "<re.Match object; span=(62, 78), match='http://pyeng.net'>\n"
     ]
    }
   ],
   "source": [
    "import re\n",
    "\n",
    "urls = \"\"\"\n",
    "http://python-developer.com\n",
    "https://www.Python-developer.com\n",
    "http://pyeng.net\n",
    "\"\"\"\n",
    "\n",
    "pattern = re.compile(r'https?://(www\\.)?([A-z-]+)(\\.[A-z]+)')\n",
    "matches = pattern.finditer(urls)\n",
    "for match in matches:\n",
    "    print(match)"
   ]
  },
  {
   "cell_type": "code",
   "execution_count": 50,
   "id": "b6086624",
   "metadata": {},
   "outputs": [
    {
     "name": "stdout",
     "output_type": "stream",
     "text": [
      "\n",
      "python-developer.com\n",
      "Python-developer.com\n",
      "pyeng.net\n",
      "\n"
     ]
    }
   ],
   "source": [
    "import re\n",
    "\n",
    "urls = \"\"\"\n",
    "http://python-developer.com\n",
    "https://www.Python-developer.com\n",
    "http://pyeng.net\n",
    "\"\"\"\n",
    "\n",
    "pattern = re.compile(r'https?://(www\\.)?([A-z-]+)(\\.[A-z]+)')\n",
    "matches = pattern.finditer(urls)\n",
    "# for match in matches:\n",
    "#     print(match.group(0))\n",
    "\n",
    "sub_urls = pattern.sub(r\"\\2\\3\", urls)\n",
    "print(sub_urls)"
   ]
  },
  {
   "cell_type": "code",
   "execution_count": 52,
   "id": "6f34d482",
   "metadata": {},
   "outputs": [
    {
     "name": "stdout",
     "output_type": "stream",
     "text": [
      "http://python-developer.com\n",
      "None\n",
      "python-developer\n",
      ".com\n",
      "https://www.Python-developer.com\n",
      "www.\n",
      "Python-developer\n",
      ".com\n",
      "http://pyeng.net\n",
      "None\n",
      "pyeng\n",
      ".net\n",
      "\n",
      "python-developer.com\n",
      "Python-developer.com\n",
      "pyeng.net\n",
      "\n"
     ]
    }
   ],
   "source": [
    "import re\n",
    "\n",
    "urls = \"\"\"\n",
    "http://python-developer.com\n",
    "https://www.Python-developer.com\n",
    "http://pyeng.net\n",
    "\"\"\"\n",
    "\n",
    "pattern = re.compile(r'https?://(www\\.)?([A-z-]+)(\\.[A-z]+)')\n",
    "matches = pattern.finditer(urls)\n",
    "for match in matches:\n",
    "    print(match.group(0))\n",
    "    print(match.group(1))\n",
    "    print(match.group(2))\n",
    "    print(match.group(3))\n",
    "\n",
    "sub_urls = pattern.sub(r\"\\2\\3\", urls)\n",
    "print(sub_urls)"
   ]
  },
  {
   "cell_type": "markdown",
   "id": "9b84ca7f",
   "metadata": {},
   "source": [
    "![](pics/compilation_flag.png)"
   ]
  },
  {
   "cell_type": "code",
   "execution_count": null,
   "id": "099d8e0d",
   "metadata": {},
   "outputs": [],
   "source": []
  }
 ],
 "metadata": {
  "kernelspec": {
   "display_name": "Python 3 (ipykernel)",
   "language": "python",
   "name": "python3"
  },
  "language_info": {
   "codemirror_mode": {
    "name": "ipython",
    "version": 3
   },
   "file_extension": ".py",
   "mimetype": "text/x-python",
   "name": "python",
   "nbconvert_exporter": "python",
   "pygments_lexer": "ipython3",
   "version": "3.11.4"
  }
 },
 "nbformat": 4,
 "nbformat_minor": 5
}
