{
 "cells": [
  {
   "cell_type": "markdown",
   "id": "894b25cc",
   "metadata": {},
   "source": [
    "## Regular Expression is a way to search through a string of text inorder to do stuffs like validation, search, find and replace."
   ]
  },
  {
   "cell_type": "code",
   "execution_count": 65,
   "id": "85e91389",
   "metadata": {},
   "outputs": [
    {
     "name": "stdout",
     "output_type": "stream",
     "text": [
      "The fat cat ran down the street\n"
     ]
    }
   ],
   "source": [
    "import re\n",
    "\n",
    "texts = [\n",
    "    'The fat cat ran down the street',\n",
    "    'It was searching for a mouse to eat'\n",
    "]\n",
    "\n",
    "regex = 'ran\\w*'\n",
    "for text in texts:\n",
    "    match = re.search(regex, text)\n",
    "    if match:\n",
    "        print(text)"
   ]
  },
  {
   "cell_type": "code",
   "execution_count": 81,
   "id": "6693194b",
   "metadata": {},
   "outputs": [
    {
     "name": "stdout",
     "output_type": "stream",
     "text": [
      "1234567890\n",
      "123-456-7890\n"
     ]
    }
   ],
   "source": [
    "digits = [\n",
    "    '1234567890',\n",
    "    '123-456-7890',\n",
    "    '123 456 7890'\n",
    "]\n",
    "regex = '\\d{3}-?\\d{3}-?\\d{4}'\n",
    "\n",
    "for digit in digits:\n",
    "    if re.match(regex, digit):\n",
    "        print(digit)"
   ]
  },
  {
   "cell_type": "code",
   "execution_count": 18,
   "id": "f59eff78",
   "metadata": {},
   "outputs": [
    {
     "name": "stdout",
     "output_type": "stream",
     "text": [
      "<re.Match object; span=(0, 10), match='1234567890'>\n"
     ]
    }
   ],
   "source": [
    "pattern = re.compile(\"\\d{10}\")\n",
    "digits = \"1234567890\"\n",
    "print(pattern.search(digits))"
   ]
  },
  {
   "cell_type": "code",
   "execution_count": 23,
   "id": "e4af94cf",
   "metadata": {},
   "outputs": [
    {
     "name": "stdout",
     "output_type": "stream",
     "text": [
      "1234567890\n"
     ]
    }
   ],
   "source": [
    "digits = \"1234567890\"\n",
    "regex = '\\d{10}'\n",
    "\n",
    "re.match(regex, digits)\n",
    "print(digits)"
   ]
  },
  {
   "cell_type": "code",
   "execution_count": 30,
   "id": "b0c71a4b",
   "metadata": {},
   "outputs": [
    {
     "name": "stdout",
     "output_type": "stream",
     "text": [
      "1234567890\n",
      "123-456-7890\n"
     ]
    }
   ],
   "source": [
    "digits = [\n",
    "    '1234567890',\n",
    "    '123-456-7890',\n",
    "    '123 456 7890'\n",
    "]\n",
    "regex = '\\d{3}-?\\d{3}-?\\d{4}'\n",
    "\n",
    "for digit in digits:\n",
    "    if re.match(regex, digit):\n",
    "        print(digit)"
   ]
  },
  {
   "cell_type": "code",
   "execution_count": 29,
   "id": "35924dd2",
   "metadata": {},
   "outputs": [
    {
     "name": "stdout",
     "output_type": "stream",
     "text": [
      "1234567890\n",
      "123-456-7890\n",
      "123 456 7890\n"
     ]
    }
   ],
   "source": [
    "digits = [\n",
    "    '1234567890',\n",
    "    '123-456-7890',\n",
    "    '123 456 7890'\n",
    "]\n",
    "regex = '\\d{3}[ -]?\\d{3}[ -]?\\d{4}'\n",
    "\n",
    "for digit in digits:\n",
    "    if re.match(regex, digit):\n",
    "        print(digit)"
   ]
  },
  {
   "cell_type": "code",
   "execution_count": 31,
   "id": "3fbf5d62",
   "metadata": {},
   "outputs": [
    {
     "name": "stdout",
     "output_type": "stream",
     "text": [
      "1234567890\n",
      "123-456-7890\n",
      "123 456 7890\n"
     ]
    }
   ],
   "source": [
    "digits = [\n",
    "    '1234567890',\n",
    "    '123-456-7890',\n",
    "    '123 456 7890'\n",
    "]\n",
    "regex = '(\\d{3})[ -]?(\\d{3})[ -]?(\\d{4})'\n",
    "\n",
    "for digit in digits:\n",
    "    if re.match(regex, digit):\n",
    "        print(digit)"
   ]
  },
  {
   "cell_type": "code",
   "execution_count": 37,
   "id": "ddd6cf2a",
   "metadata": {},
   "outputs": [
    {
     "name": "stdout",
     "output_type": "stream",
     "text": [
      "1234567890\n",
      "123-456-7890\n",
      "123 456 7890\n",
      "(123) 456-7890\n"
     ]
    }
   ],
   "source": [
    "digits = [\n",
    "    '1234567890',\n",
    "    '123-456-7890',\n",
    "    '123 456 7890',\n",
    "    '(123) 456-7890'\n",
    "]\n",
    "regex = '\\(?\\d{3}\\)?[ -]?(\\d{3})[ -]?(\\d{4})'\n",
    "\n",
    "for digit in digits:\n",
    "    if re.match(regex, digit):\n",
    "        print(digit) "
   ]
  },
  {
   "cell_type": "code",
   "execution_count": 41,
   "id": "97f61693",
   "metadata": {},
   "outputs": [
    {
     "name": "stdout",
     "output_type": "stream",
     "text": [
      "+1 123 456 7890\n"
     ]
    }
   ],
   "source": [
    "digits = [\n",
    "    '1234567890',\n",
    "    '123-456-7890',\n",
    "    '123 456 7890',\n",
    "    '(123) 456-7890', \n",
    "    '+1 123 456 7890',\n",
    "]\n",
    "regex = '(\\+1[ -])\\(?\\d{3}\\)?[ -]?(\\d{3})[ -]?(\\d{4})'\n",
    "\n",
    "for digit in digits:\n",
    "    if re.match(regex, digit):\n",
    "        print(digit) "
   ]
  },
  {
   "cell_type": "code",
   "execution_count": 43,
   "id": "4fd423b8",
   "metadata": {},
   "outputs": [
    {
     "name": "stdout",
     "output_type": "stream",
     "text": [
      "1234567890\n",
      "123-456-7890\n",
      "123 456 7890\n",
      "(123) 456-7890\n",
      "+1 123 456 7890\n"
     ]
    }
   ],
   "source": [
    "digits = [\n",
    "    '1234567890',\n",
    "    '123-456-7890',\n",
    "    '123 456 7890',\n",
    "    '(123) 456-7890', \n",
    "    '+1 123 456 7890',\n",
    "]\n",
    "regex = '((\\+1)[ -])?\\(?\\d{3}\\)?[ -]?(\\d{3})[ -]?(\\d{4})'\n",
    "\n",
    "for digit in digits:\n",
    "    if re.match(regex, digit):\n",
    "        print(digit) "
   ]
  },
  {
   "cell_type": "code",
   "execution_count": 46,
   "id": "cc68d671",
   "metadata": {},
   "outputs": [
    {
     "name": "stdout",
     "output_type": "stream",
     "text": [
      "1234567890\n",
      "123-456-7890\n",
      "123 456 7890\n",
      "(123) 456-7890\n",
      "+1 123 456 7890\n"
     ]
    }
   ],
   "source": [
    "digits = [\n",
    "    '1234567890',\n",
    "    '123-456-7890',\n",
    "    '123 456 7890',\n",
    "    '(123) 456-7890', \n",
    "    '+1 123 456 7890',\n",
    "]\n",
    "regex = '(?:(\\+1)[ -])?\\(?\\d{3}\\)?[ -]?(\\d{3})[ -]?(\\d{4})'\n",
    "\n",
    "for digit in digits:\n",
    "    if re.match(regex, digit):\n",
    "        print(digit) "
   ]
  },
  {
   "cell_type": "code",
   "execution_count": null,
   "id": "f687713c",
   "metadata": {},
   "outputs": [],
   "source": []
  },
  {
   "cell_type": "code",
   "execution_count": null,
   "id": "5223e746",
   "metadata": {},
   "outputs": [],
   "source": []
  }
 ],
 "metadata": {
  "kernelspec": {
   "display_name": "Python 3 (ipykernel)",
   "language": "python",
   "name": "python3"
  },
  "language_info": {
   "codemirror_mode": {
    "name": "ipython",
    "version": 3
   },
   "file_extension": ".py",
   "mimetype": "text/x-python",
   "name": "python",
   "nbconvert_exporter": "python",
   "pygments_lexer": "ipython3",
   "version": "3.11.4"
  }
 },
 "nbformat": 4,
 "nbformat_minor": 5
}
