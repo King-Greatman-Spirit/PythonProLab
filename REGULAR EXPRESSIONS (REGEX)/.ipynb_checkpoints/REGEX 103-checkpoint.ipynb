{
 "cells": [
  {
   "cell_type": "markdown",
   "id": "894b25cc",
   "metadata": {},
   "source": [
    "## Regular Expression is a way to search through a string of text inorder to do stuffs like validation, search, find and replace."
   ]
  },
  {
   "cell_type": "code",
   "execution_count": 13,
   "id": "85e91389",
   "metadata": {},
   "outputs": [
    {
     "name": "stdout",
     "output_type": "stream",
     "text": [
      "The fat cat ran down the street\n",
      "It was searching for a mouse to eat\n"
     ]
    }
   ],
   "source": [
    "import re\n",
    "\n",
    "texts = [\n",
    "    'The fat cat ran down the street',\n",
    "    'It was searching for a mouse to eat'\n",
    "]\n",
    "\n",
    "# regex = '^\\cat+\\+$'\n",
    "regex = '[a-z]{1}+(at)'\n",
    "for text in texts:\n",
    "    result = re.search(regex, text)\n",
    "    if result:\n",
    "        print(text)"
   ]
  },
  {
   "cell_type": "code",
   "execution_count": 18,
   "id": "f59eff78",
   "metadata": {},
   "outputs": [
    {
     "name": "stdout",
     "output_type": "stream",
     "text": [
      "<re.Match object; span=(0, 10), match='1234567890'>\n"
     ]
    }
   ],
   "source": [
    "pattern = re.compile(\"\\d{10}\")\n",
    "digits = \"1234567890\"\n",
    "print(pattern.search(digits))"
   ]
  },
  {
   "cell_type": "code",
   "execution_count": 23,
   "id": "9a738b47",
   "metadata": {},
   "outputs": [
    {
     "name": "stdout",
     "output_type": "stream",
     "text": [
      "1234567890\n"
     ]
    }
   ],
   "source": [
    "digits = \"1234567890\"\n",
    "regex = '\\d{10}'\n",
    "\n",
    "re.match(regex, digits)\n",
    "print(digits)"
   ]
  },
  {
   "cell_type": "code",
   "execution_count": 30,
   "id": "b92a97c5",
   "metadata": {},
   "outputs": [
    {
     "name": "stdout",
     "output_type": "stream",
     "text": [
      "1234567890\n",
      "123-456-7890\n"
     ]
    }
   ],
   "source": [
    "digits = [\n",
    "    '1234567890',\n",
    "    '123-456-7890',\n",
    "    '123 456 7890'\n",
    "]\n",
    "regex = '\\d{3}-?\\d{3}-?\\d{4}'\n",
    "\n",
    "for digit in digits:\n",
    "    if re.match(regex, digit):\n",
    "        print(digit)"
   ]
  },
  {
   "cell_type": "code",
   "execution_count": 29,
   "id": "53142b9d",
   "metadata": {},
   "outputs": [
    {
     "name": "stdout",
     "output_type": "stream",
     "text": [
      "1234567890\n",
      "123-456-7890\n",
      "123 456 7890\n"
     ]
    }
   ],
   "source": [
    "digits = [\n",
    "    '1234567890',\n",
    "    '123-456-7890',\n",
    "    '123 456 7890'\n",
    "]\n",
    "regex = '\\d{3}[ -]?\\d{3}[ -]?\\d{4}'\n",
    "\n",
    "for digit in digits:\n",
    "    if re.match(regex, digit):\n",
    "        print(digit)"
   ]
  },
  {
   "cell_type": "code",
   "execution_count": 31,
   "id": "9284898a",
   "metadata": {},
   "outputs": [
    {
     "name": "stdout",
     "output_type": "stream",
     "text": [
      "1234567890\n",
      "123-456-7890\n",
      "123 456 7890\n"
     ]
    }
   ],
   "source": [
    "digits = [\n",
    "    '1234567890',\n",
    "    '123-456-7890',\n",
    "    '123 456 7890'\n",
    "]\n",
    "regex = '(\\d{3})[ -]?(\\d{3})[ -]?(\\d{4})'\n",
    "\n",
    "for digit in digits:\n",
    "    if re.match(regex, digit):\n",
    "        print(digit)"
   ]
  },
  {
   "cell_type": "code",
   "execution_count": 37,
   "id": "5a6e31e3",
   "metadata": {},
   "outputs": [
    {
     "name": "stdout",
     "output_type": "stream",
     "text": [
      "1234567890\n",
      "123-456-7890\n",
      "123 456 7890\n",
      "(123) 456-7890\n"
     ]
    }
   ],
   "source": [
    "digits = [\n",
    "    '1234567890',\n",
    "    '123-456-7890',\n",
    "    '123 456 7890',\n",
    "    '(123) 456-7890'\n",
    "]\n",
    "regex = '\\(?\\d{3}\\)?[ -]?(\\d{3})[ -]?(\\d{4})'\n",
    "\n",
    "for digit in digits:\n",
    "    if re.match(regex, digit):\n",
    "        print(digit) "
   ]
  },
  {
   "cell_type": "code",
   "execution_count": 41,
   "id": "9fcbeb5c",
   "metadata": {},
   "outputs": [
    {
     "name": "stdout",
     "output_type": "stream",
     "text": [
      "+1 123 456 7890\n"
     ]
    }
   ],
   "source": [
    "digits = [\n",
    "    '1234567890',\n",
    "    '123-456-7890',\n",
    "    '123 456 7890',\n",
    "    '(123) 456-7890', \n",
    "    '+1 123 456 7890',\n",
    "]\n",
    "regex = '(\\+1[ -])\\(?\\d{3}\\)?[ -]?(\\d{3})[ -]?(\\d{4})'\n",
    "\n",
    "for digit in digits:\n",
    "    if re.match(regex, digit):\n",
    "        print(digit) "
   ]
  },
  {
   "cell_type": "code",
   "execution_count": 43,
   "id": "e1356abd",
   "metadata": {},
   "outputs": [
    {
     "name": "stdout",
     "output_type": "stream",
     "text": [
      "1234567890\n",
      "123-456-7890\n",
      "123 456 7890\n",
      "(123) 456-7890\n",
      "+1 123 456 7890\n"
     ]
    }
   ],
   "source": [
    "digits = [\n",
    "    '1234567890',\n",
    "    '123-456-7890',\n",
    "    '123 456 7890',\n",
    "    '(123) 456-7890', \n",
    "    '+1 123 456 7890',\n",
    "]\n",
    "regex = '((\\+1)[ -])?\\(?\\d{3}\\)?[ -]?(\\d{3})[ -]?(\\d{4})'\n",
    "\n",
    "for digit in digits:\n",
    "    if re.match(regex, digit):\n",
    "        print(digit) "
   ]
  },
  {
   "cell_type": "code",
   "execution_count": 45,
   "id": "65710595",
   "metadata": {},
   "outputs": [
    {
     "name": "stdout",
     "output_type": "stream",
     "text": [
      "1234567890\n",
      "123-456-7890\n",
      "123 456 7890\n",
      "(123) 456-7890\n",
      "+1 123 456 7890\n"
     ]
    }
   ],
   "source": [
    "digits = [\n",
    "    '1234567890',\n",
    "    '123-456-7890',\n",
    "    '123 456 7890',\n",
    "    '(123) 456-7890', \n",
    "    '+1 123 456 7890',\n",
    "]\n",
    "regex = '(?:(\\+1)[ -])?\\(?\\d{3}\\)?[ -]?(\\d{3})[ -]?(\\d{4})'\n",
    "\n",
    "for digit in digits:\n",
    "    if re.match(regex, digit):\n",
    "        print(digit) "
   ]
  },
  {
   "cell_type": "code",
   "execution_count": null,
   "id": "9490983e",
   "metadata": {},
   "outputs": [],
   "source": []
  }
 ],
 "metadata": {
  "kernelspec": {
   "display_name": "Python 3 (ipykernel)",
   "language": "python",
   "name": "python3"
  },
  "language_info": {
   "codemirror_mode": {
    "name": "ipython",
    "version": 3
   },
   "file_extension": ".py",
   "mimetype": "text/x-python",
   "name": "python",
   "nbconvert_exporter": "python",
   "pygments_lexer": "ipython3",
   "version": "3.11.4"
  }
 },
 "nbformat": 4,
 "nbformat_minor": 5
}
