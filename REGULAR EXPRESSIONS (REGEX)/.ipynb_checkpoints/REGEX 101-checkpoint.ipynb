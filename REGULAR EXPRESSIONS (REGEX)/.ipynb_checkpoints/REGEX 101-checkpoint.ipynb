{
 "cells": [
  {
   "cell_type": "markdown",
   "id": "f0718350",
   "metadata": {},
   "source": [
    "## REGEX means Regular Expressions.\n",
    "    "
   ]
  },
  {
   "cell_type": "markdown",
   "id": "8438e301",
   "metadata": {},
   "source": [
    "![](pics/re.png)"
   ]
  },
  {
   "cell_type": "code",
   "execution_count": 2,
   "id": "d19905b2",
   "metadata": {},
   "outputs": [
    {
     "name": "stdout",
     "output_type": "stream",
     "text": [
      "Mighty Man\n",
      "Unye Awaji\n"
     ]
    }
   ],
   "source": [
    "import re\n",
    "\n",
    "names = [\n",
    "    'Mighty Man',\n",
    "    'King Greatman Spirit',\n",
    "    'Greatestmaneva',\n",
    "    'Unye Awaji',\n",
    "    'Justus']\n",
    "\n",
    "# Find people with first and last name only\n",
    "regex = '^\\w+ \\w+$'\n",
    "for name in names:\n",
    "    result = re.search(regex, name)\n",
    "    if result:\n",
    "        print(name)"
   ]
  },
  {
   "cell_type": "code",
   "execution_count": 4,
   "id": "f73feb0b",
   "metadata": {},
   "outputs": [],
   "source": [
    "import re\n",
    "\n",
    "names = [\n",
    "    'Mighty  Man',\n",
    "    'King Greatman Spirit',\n",
    "    'Greatestmaneva',\n",
    "    'Unye   Awaji',\n",
    "    'Justus']\n",
    "\n",
    "# Find people with first and last name only\n",
    "#see what happens if we have more than one whitespace\n",
    "# btw the first and last name\n",
    "regex = '^\\w+ \\w+$'\n",
    "for name in names:\n",
    "    result = re.search(regex, name)\n",
    "    if result:\n",
    "        print(name)"
   ]
  },
  {
   "cell_type": "code",
   "execution_count": 6,
   "id": "b5fb4b3a",
   "metadata": {},
   "outputs": [
    {
     "name": "stdout",
     "output_type": "stream",
     "text": [
      "Mighty  Man\n",
      "Unye   Awaji\n"
     ]
    }
   ],
   "source": [
    "# Find people with first and last name only\n",
    "#see what happens if we have more than one whitespace\n",
    "# btw the first and last name\n",
    "\n",
    "# having added '\\s+\\' to catch teh withspaces\n",
    "regex = '^\\w+\\s+\\w+$'\n",
    "for name in names:\n",
    "    result = re.search(regex, name)\n",
    "    if result:\n",
    "        print(name)"
   ]
  },
  {
   "cell_type": "code",
   "execution_count": 7,
   "id": "64bb737b",
   "metadata": {},
   "outputs": [
    {
     "name": "stdout",
     "output_type": "stream",
     "text": [
      "<re.Match object; span=(0, 11), match='Mighty  Man'>\n",
      "<re.Match object; span=(0, 12), match='Unye   Awaji'>\n"
     ]
    }
   ],
   "source": [
    "# Find people with first and last name only\n",
    "#see what happens if we have more than one whitespace\n",
    "# btw the first and last name\n",
    "\n",
    "# having added '\\s+\\' to catch teh withspaces\n",
    "regex = '^\\w+\\s+\\w+$'\n",
    "for name in names:\n",
    "    result = re.search(regex, name)\n",
    "    if result:\n",
    "        print(result)"
   ]
  },
  {
   "cell_type": "code",
   "execution_count": 8,
   "id": "42ec481b",
   "metadata": {},
   "outputs": [
    {
     "name": "stdout",
     "output_type": "stream",
     "text": [
      "King Greatman Spirit\n",
      "Greatestmaneva\n"
     ]
    }
   ],
   "source": [
    "names = [\n",
    "    'Mighty Man',\n",
    "    'King Greatman Spirit',\n",
    "    'Greatestmaneva',\n",
    "    'Unye Awaji',\n",
    "    'Justus']\n",
    "\n",
    "# Search for word char sequence starting with G\n",
    "regex = 'G\\w*'\n",
    "for name in names:\n",
    "    match = re.search(regex, name)\n",
    "    if match:\n",
    "        print(name)"
   ]
  },
  {
   "cell_type": "code",
   "execution_count": 9,
   "id": "a1d088b5",
   "metadata": {},
   "outputs": [
    {
     "name": "stdout",
     "output_type": "stream",
     "text": [
      "King Greatman Spirit\n",
      "5\n",
      "13\n",
      "Greatestmaneva\n",
      "0\n",
      "14\n"
     ]
    }
   ],
   "source": [
    "names = [\n",
    "    'Mighty Man',\n",
    "    'King Greatman Spirit',\n",
    "    'Greatestmaneva',\n",
    "    'Unye Awaji',\n",
    "    'Justus']\n",
    "\n",
    "# Search for word char sequence starting with G\n",
    "regex = 'G\\w*'\n",
    "for name in names:\n",
    "    match = re.search(regex, name)\n",
    "    if match:\n",
    "        print(name)\n",
    "        print(match.start())\n",
    "        print(match.end())"
   ]
  },
  {
   "cell_type": "code",
   "execution_count": 10,
   "id": "5dd4556b",
   "metadata": {},
   "outputs": [
    {
     "name": "stdout",
     "output_type": "stream",
     "text": [
      "King Greatman Spirit\n",
      "(5, 13)\n",
      "Greatestmaneva\n",
      "(0, 14)\n"
     ]
    }
   ],
   "source": [
    "names = [\n",
    "    'Mighty Man',\n",
    "    'King Greatman Spirit',\n",
    "    'Greatestmaneva',\n",
    "    'Unye Awaji',\n",
    "    'Justus']\n",
    "\n",
    "# Search for word char sequence starting with G\n",
    "regex = 'G\\w*'\n",
    "for name in names:\n",
    "    match = re.search(regex, name)\n",
    "    if match:\n",
    "        print(name)\n",
    "        print(match.span())"
   ]
  },
  {
   "cell_type": "code",
   "execution_count": 13,
   "id": "69dfa84e",
   "metadata": {},
   "outputs": [
    {
     "name": "stdout",
     "output_type": "stream",
     "text": [
      "Name: King Greatman Spirit\n",
      "Span: (5, 13)\n",
      "Group: Greatman\n",
      "Name: Greatestmaneva\n",
      "Span: (0, 14)\n",
      "Group: Greatestmaneva\n"
     ]
    }
   ],
   "source": [
    "# Search for word char sequence starting with G\n",
    "regex = 'G\\w*'\n",
    "for name in names:\n",
    "    match = re.search(regex, name)\n",
    "    if match:\n",
    "        print(\"Name:\", name)\n",
    "        print(\"Span:\", match.span())\n",
    "        print(\"Group:\", match.group())"
   ]
  },
  {
   "cell_type": "code",
   "execution_count": 16,
   "id": "a7fc2472",
   "metadata": {},
   "outputs": [
    {
     "name": "stdout",
     "output_type": "stream",
     "text": [
      "Queen Esther\n",
      "Spirit Greatman\n",
      "King Justus\n",
      "Chris Ugoh\n"
     ]
    }
   ],
   "source": [
    "import re\n",
    "\n",
    "names = [\n",
    "    'Queen Esther',\n",
    "    'Spirit Greatman',\n",
    "    'King Justus',\n",
    "    'Chris Ugoh',\n",
    "    'Teddiechi']\n",
    "\n",
    "# Test for first and last name\n",
    "regex = '^\\w+\\s+\\w+$'\n",
    "for name in names:\n",
    "    match = re.search(regex, name)\n",
    "    if match:\n",
    "        print(name)"
   ]
  },
  {
   "cell_type": "code",
   "execution_count": 22,
   "id": "e1003eca",
   "metadata": {},
   "outputs": [
    {
     "name": "stdout",
     "output_type": "stream",
     "text": [
      "Name: Queen Esther\n",
      "Group 1: Queen\n",
      "Group 2: Esther\n",
      "Name: Spirit Greatman\n",
      "Group 1: Spirit\n",
      "Group 2: Greatman\n",
      "Name: King Justus\n",
      "Group 1: King\n",
      "Group 2: Justus\n",
      "Name: Chris Ugoh\n",
      "Group 1: Chris\n",
      "Group 2: Ugoh\n"
     ]
    }
   ],
   "source": [
    "import re\n",
    "\n",
    "names = [\n",
    "    'Queen Esther',\n",
    "    'Spirit Greatman',\n",
    "    'King Justus',\n",
    "    'Chris Ugoh',\n",
    "    'Teddiechi']\n",
    "\n",
    "# Test for first and last name\n",
    "regex = '^(\\w+)\\s+(\\w+)$'\n",
    "for name in names:\n",
    "    match = re.search(regex, name)\n",
    "    if match:\n",
    "        print(\"Name:\", name)\n",
    "        print(\"Group 1:\", match.group(1))\n",
    "        print(\"Group 2:\", match.group(2))"
   ]
  },
  {
   "cell_type": "code",
   "execution_count": 23,
   "id": "540d4ac5",
   "metadata": {},
   "outputs": [
    {
     "name": "stdout",
     "output_type": "stream",
     "text": [
      "Name: Queen Esther\n",
      "Group 1: Queen\n",
      "Group 2: Esther\n",
      "Name: Spirit Greatman\n",
      "Group 1: Spirit\n",
      "Group 2: Greatman\n",
      "Name: King Justus\n",
      "Group 1: King\n",
      "Group 2: Justus\n",
      "Name: Chris Ugoh\n",
      "Group 1: Chris\n",
      "Group 2: Ugoh\n"
     ]
    }
   ],
   "source": [
    "import re\n",
    "\n",
    "names = [\n",
    "    'Queen Esther',\n",
    "    'Spirit Greatman',\n",
    "    'King Justus',\n",
    "    'Chris Ugoh',\n",
    "    'Teddiechi']\n",
    "\n",
    "# Test for first and last name\n",
    "regex = '^(?P<fn>\\w+)\\s+(?P<ln>\\w+)$'\n",
    "for name in names:\n",
    "    match = re.search(regex, name)\n",
    "    if match:\n",
    "        print(\"Name:\", name)\n",
    "        print(\"Group 1:\", match.group('fn'))\n",
    "        print(\"Group 2:\", match.group('ln'))"
   ]
  },
  {
   "cell_type": "code",
   "execution_count": 36,
   "id": "505b6999",
   "metadata": {},
   "outputs": [
    {
     "name": "stdout",
     "output_type": "stream",
     "text": [
      "Tedd!ech!\n"
     ]
    }
   ],
   "source": [
    "names = [\n",
    "    'Queen Esther',\n",
    "    'Spirit Greatman',\n",
    "    'King Justus',\n",
    "    'Chris Ugoh',\n",
    "    'Tedd!ech!']\n",
    "\n",
    "# Test for last name\n",
    "regex = '^[a-zA-Z!]+$'\n",
    "for name in names:\n",
    "    if re.search(regex, name):\n",
    "        print(name)"
   ]
  },
  {
   "cell_type": "markdown",
   "id": "2c5708dc",
   "metadata": {},
   "source": [
    "![](pics/findall.png)"
   ]
  },
  {
   "cell_type": "code",
   "execution_count": 38,
   "id": "19df9aec",
   "metadata": {},
   "outputs": [
    {
     "name": "stdout",
     "output_type": "stream",
     "text": [
      "['ueen', 'sther']\n",
      "['pirit', 'reatman']\n",
      "['ing', 'ustus']\n",
      "['hris', 'goh']\n",
      "['edd', 'ech']\n"
     ]
    }
   ],
   "source": [
    "import re\n",
    "\n",
    "names = [\n",
    "    'Queen Esther',\n",
    "    'Spirit Greatman',\n",
    "    'King Justus',\n",
    "    'Chris Ugoh',\n",
    "    'Tedd!ech!']\n",
    "\n",
    "# Scan for blocks of lowercase letters\n",
    "regex = '[a-z]+'\n",
    "for name in names:\n",
    "    matches = re.findall(regex, name)\n",
    "    if matches:\n",
    "        print(matches)\n"
   ]
  },
  {
   "cell_type": "markdown",
   "id": "b77d5b18",
   "metadata": {},
   "source": [
    "![](pics/finditer.png)"
   ]
  },
  {
   "cell_type": "code",
   "execution_count": 39,
   "id": "e82bae83",
   "metadata": {},
   "outputs": [
    {
     "name": "stdout",
     "output_type": "stream",
     "text": [
      "<re.Match object; span=(1, 5), match='ueen'>\n",
      "<re.Match object; span=(7, 12), match='sther'>\n",
      "<re.Match object; span=(1, 6), match='pirit'>\n",
      "<re.Match object; span=(8, 15), match='reatman'>\n",
      "<re.Match object; span=(1, 4), match='ing'>\n",
      "<re.Match object; span=(6, 11), match='ustus'>\n",
      "<re.Match object; span=(1, 5), match='hris'>\n",
      "<re.Match object; span=(7, 10), match='goh'>\n",
      "<re.Match object; span=(1, 4), match='edd'>\n",
      "<re.Match object; span=(5, 8), match='ech'>\n"
     ]
    }
   ],
   "source": [
    "import re\n",
    "\n",
    "names = [\n",
    "    'Queen Esther',\n",
    "    'Spirit Greatman',\n",
    "    'King Justus',\n",
    "    'Chris Ugoh',\n",
    "    'Tedd!ech!']\n",
    "\n",
    "# Scan for blocks of lowercase letters\n",
    "regex = '[a-z]+'\n",
    "for name in names:\n",
    "    matches = re.finditer(regex, name)\n",
    "    for match in matches:\n",
    "        print(match)\n"
   ]
  },
  {
   "cell_type": "markdown",
   "id": "db4590f6",
   "metadata": {},
   "source": [
    "![](pics/match.png)"
   ]
  },
  {
   "cell_type": "code",
   "execution_count": 44,
   "id": "c424cc1f",
   "metadata": {},
   "outputs": [
    {
     "name": "stdout",
     "output_type": "stream",
     "text": [
      "https://www.webstacka.com\n",
      "http://www.webstacka.com\n"
     ]
    }
   ],
   "source": [
    "import re \n",
    "\n",
    "values = [\n",
    "    'https://www.webstacka.com',\n",
    "    'http://www.webstacka.com',\n",
    "    'file://test.this.path',\n",
    "    'com.webstacka.www_https://']\n",
    "\n",
    "# Test if the string starts with http or https\n",
    "regex = 'https?'\n",
    "for value in values:\n",
    "    if re.match(regex, value):\n",
    "        print(value)"
   ]
  },
  {
   "cell_type": "markdown",
   "id": "9059eaea",
   "metadata": {},
   "source": [
    "![](pics/fullmatch.png)"
   ]
  },
  {
   "cell_type": "code",
   "execution_count": 47,
   "id": "1ec12984",
   "metadata": {},
   "outputs": [
    {
     "name": "stdout",
     "output_type": "stream",
     "text": [
      "https://www.webstacka.com\n",
      "http://www.webstacka.com\n"
     ]
    }
   ],
   "source": [
    "import re \n",
    "\n",
    "values = [\n",
    "    'https://www.webstacka.com',\n",
    "    'http://www.webstacka.com',\n",
    "    'file://test.this.path',\n",
    "    'com.webstacka.www_https://']\n",
    "\n",
    "# Test if the string starts with http or https\n",
    "regex = 'https?://w{3}.\\w+.(org|com)'\n",
    "for value in values:\n",
    "    if re.fullmatch(regex, value):\n",
    "        print(value)"
   ]
  },
  {
   "cell_type": "markdown",
   "id": "c761bd49",
   "metadata": {},
   "source": [
    "### Want to learn more ?\n",
    "\n",
    "### Visit: https://docs.python.org/3/library/re.html"
   ]
  },
  {
   "cell_type": "code",
   "execution_count": null,
   "id": "0b1dd271",
   "metadata": {},
   "outputs": [],
   "source": []
  },
  {
   "cell_type": "code",
   "execution_count": null,
   "id": "22d28444",
   "metadata": {},
   "outputs": [],
   "source": []
  }
 ],
 "metadata": {
  "kernelspec": {
   "display_name": "Python 3 (ipykernel)",
   "language": "python",
   "name": "python3"
  },
  "language_info": {
   "codemirror_mode": {
    "name": "ipython",
    "version": 3
   },
   "file_extension": ".py",
   "mimetype": "text/x-python",
   "name": "python",
   "nbconvert_exporter": "python",
   "pygments_lexer": "ipython3",
   "version": "3.11.4"
  }
 },
 "nbformat": 4,
 "nbformat_minor": 5
}
