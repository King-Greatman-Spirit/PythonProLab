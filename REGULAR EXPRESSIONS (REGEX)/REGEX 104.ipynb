{
 "cells": [
  {
   "cell_type": "markdown",
   "id": "35c7f367",
   "metadata": {},
   "source": [
    "## Regex101 is an amazing website I use in building and writing my Regular Expressions before going ahead to use it in my code (specifically Visual Studio code or Jupyter Notebook). Below is the url:\n",
    "\n",
    "##  www.regex101.com"
   ]
  },
  {
   "cell_type": "markdown",
   "id": "d6adf215",
   "metadata": {},
   "source": [
    "![](pics/regex101.png)"
   ]
  },
  {
   "cell_type": "code",
   "execution_count": 3,
   "id": "c7cd87cc",
   "metadata": {},
   "outputs": [],
   "source": [
    "import re"
   ]
  },
  {
   "cell_type": "markdown",
   "id": "afbbd647",
   "metadata": {},
   "source": [
    "sample = '''\n",
    "Elon musk phone number is 9991116666,\n",
    "call him if you have any questions on dodgecoin. \n",
    "Telsa reenue is 40 billion. \n",
    "Tesla's CFO number (999)-333-7777\n",
    "'''\n",
    "\n",
    "\n",
    "pattern = '\\d{3}-\\d{3}-\\d{4}|\\d{10}'\n",
    "\n",
    "matches = re.findall(pattern, sample)\n",
    "matches"
   ]
  },
  {
   "cell_type": "code",
   "execution_count": 9,
   "id": "c13c143d",
   "metadata": {},
   "outputs": [
    {
     "data": {
      "text/plain": [
       "['9991116666', '(999)-333-7777']"
      ]
     },
     "execution_count": 9,
     "metadata": {},
     "output_type": "execute_result"
    }
   ],
   "source": [
    "sample = '''\n",
    "Elon musk phone number is 9991116666,\n",
    "call him if you have any questions on dodgecoin. \n",
    "Telsa reenue is 40 billion. \n",
    "Tesla's CFO number (999)-333-7777\n",
    "'''\n",
    "\n",
    "\n",
    "pattern = '\\(\\d{3}\\)-\\d{3}-\\d{4}|\\d{10}'\n",
    "\n",
    "matches = re.findall(pattern, sample)\n",
    "matches"
   ]
  },
  {
   "cell_type": "code",
   "execution_count": 10,
   "id": "03bfbd0e",
   "metadata": {},
   "outputs": [
    {
     "data": {
      "text/plain": [
       "['a', 's', 'j', 'l', 'f', 'j', 'k', 'j', 'a', 'l', 's', 'j', 'd', 'f']"
      ]
     },
     "execution_count": 10,
     "metadata": {},
     "output_type": "execute_result"
    }
   ],
   "source": [
    "text = 'asjlfj;kj;alsj;df-'\n",
    "\n",
    "pattern= '[^;-]'\n",
    "match = re.findall(pattern, text)\n",
    "match"
   ]
  },
  {
   "cell_type": "code",
   "execution_count": 11,
   "id": "afa16c88",
   "metadata": {},
   "outputs": [
    {
     "data": {
      "text/plain": [
       "['asjlfj', 'kj', 'alsj', 'df']"
      ]
     },
     "execution_count": 11,
     "metadata": {},
     "output_type": "execute_result"
    }
   ],
   "source": [
    "text = 'asjlfj;kj;alsj;df-'\n",
    "\n",
    "pattern= '[^;-]+'\n",
    "match = re.findall(pattern, text)\n",
    "match"
   ]
  },
  {
   "cell_type": "markdown",
   "id": "63874682",
   "metadata": {},
   "source": [
    "Note 1 - Overview\n",
    "\n",
    "Telsa, Inc (\"Telsa\", the \"Company\", \"we\", \"us\" or \"our\") was incorporated in the State of Delware on July 1, 2003. We design, develop, manufacture and sell high-performance fully eletric vehicles and design, manufacture, instal and sell solar energy generation and energy storage products.\n",
    "Our Chief Executive Officer, as the chief operating decision maker (\"CODM\"), organizes our company, manages resource allocations and measures performance among two operating and reportable segments: (i) automotive and (ii) energy generation and storage.\n",
    "Begining in the  first quarter of 2021, there has been a trend in many parts of the world of increasing availibility and administration of vaccines against COVID-19, as well as an easing of restrictions on social, buiness, travel and governemnt activities and f unctions. On the other hand, infection rates and regulations continue to fluctuate in various regions and therer are ongoing global impacts resulting from the pandemoc, including challenges\n",
    "and increased port congestion, intermittent supplier delays and a shoftfall of semiconductor supply. We have also previously been affected by temporary manufacturing closures, employment and compensation adjustments and impediments to administrative activities supporting our product delieveries and deployments.\n",
    "\n",
    "Note2 - Summary of Significant Accounting Policies Unaudited Interim Financial Statements\n",
    "\n",
    "The consolidated balance sheet as of september 30, 2021, the consolidated sttements of operations, the consolidated statements of \n",
    "comprehensive imcome, the consolidated statements of redeemable noncontrolling interests and equity for the three and nine months ended September 30, 2021 and 2020, as well as well as other information disclposed in the accompanying notes, are unaudited. The consolidated balance sheet as of December 31, 2020 was derived from the audited consolidated financial statements as of that date. The interim consolidated financial statements and the accompanying notes should be read in conjuction with the annual consolidated financial statements and the accompanying notes containing in our Annual Report on Form 10-K for the year endede December 31, 2020.\n",
    "\n"
   ]
  },
  {
   "cell_type": "code",
   "execution_count": 17,
   "id": "55334403",
   "metadata": {},
   "outputs": [
    {
     "data": {
      "text/plain": [
       "['Note 1 - Overview',\n",
       " 'Note 2 - Summary of Significant Accounting Policies Unaudited Interim Financial Statements']"
      ]
     },
     "execution_count": 17,
     "metadata": {},
     "output_type": "execute_result"
    }
   ],
   "source": [
    "text = '''\n",
    "Note 1 - Overview\n",
    "Telsa, Inc (\"Telsa\", the \"Company\", \"we\", \"us\" or \"our\") was incorporated in the State of Delware on July 1, 2003. We design, develop, manufacture and sell high-performance fully eletric vehicles and design, manufacture, instal and sell solar energy generation and energy storage products.\n",
    "Our Chief Executive Officer, as the chief operating decision maker (\"CODM\"), organizes our company, manages resource allocations and measures performance among two operating and reportable segments: (i) automotive and (ii) energy generation and storage.\n",
    "Begining in the  first quarter of 2021, there has been a trend in many parts of the world of increasing availibility and administration of vaccines against COVID-19, as well as an easing of restrictions on social, buiness, travel and governemnt activities and f unctions. On the other hand, infection rates and regulations continue to fluctuate in various regions and therer are ongoing global impacts resulting from the pandemoc, including challenges\n",
    "and increased port congestion, intermittent supplier delays and a shoftfall of semiconductor supply. We have also previously been affected by temporary manufacturing closures, employment and compensation adjustments and impediments to administrative activities supporting our product delieveries and deployments.\n",
    "\n",
    "Note 2 - Summary of Significant Accounting Policies Unaudited Interim Financial Statements\n",
    "\n",
    "The consolidated balance sheet as of september 30, 2021, the consolidated sttements of operations, the consolidated statements of \n",
    "comprehensive imcome, the consolidated statements of redeemable noncontrolling interests and equity for the three and nine months ended September 30, 2021 and 2020, as well as well as other information disclposed in the accompanying notes, are unaudited. The consolidated balance sheet as of December 31, 2020 was derived from the audited consolidated financial statements as of that date. The interim consolidated financial statements and the accompanying notes should be read in conjuction with the annual consolidated financial statements and the accompanying notes containing in our Annual Report on Form 10-K for the year endede December 31, 2020.\n",
    "'''\n",
    "\n",
    "pattern= 'Note \\d[^\\n]*'\n",
    "match = re.findall(pattern, text)\n",
    "match"
   ]
  },
  {
   "cell_type": "code",
   "execution_count": 23,
   "id": "ad2c76a9",
   "metadata": {},
   "outputs": [
    {
     "data": {
      "text/plain": [
       "['Overview',\n",
       " 'Summary of Significant Accounting Policies Unaudited Interim Financial Statements']"
      ]
     },
     "execution_count": 23,
     "metadata": {},
     "output_type": "execute_result"
    }
   ],
   "source": [
    "# Extract the Topics of the text below i.e Note 1 and Note 2\n",
    "\n",
    "text = '''\n",
    "Note 1 - Overview\n",
    "Telsa, Inc (\"Telsa\", the \"Company\", \"we\", \"us\" or \"our\") was incorporated in the State of Delware \n",
    "on July 1, 2003. We design, develop, manufacture and sell high-performance fully eletric vehicles \n",
    "and design, manufacture, instal and sell solar energy generation and energy storage products.\n",
    "Our Chief Executive Officer, as the chief operating decision maker (\"CODM\"), organizes our company, \n",
    "manages resource allocations and measures performance among two operating and reportable segments: \n",
    "(i) automotive and (ii) energy generation and storage.\n",
    "Begining in the  first quarter of 2021, there has been a trend in many parts of the world of \n",
    "increasing availibility and administration of vaccines against COVID-19, as well as an easing of \n",
    "restrictions on social, buiness, travel and governemnt activities and f unctions. On the other hand, \n",
    "infection rates and regulations continue to fluctuate in various regions and therer are ongoing global \n",
    "impacts resulting from the pandemoc, including challenges\n",
    "and increased port congestion, intermittent supplier delays and a shoftfall of semiconductor supply. \n",
    "We have also previously been affected by temporary manufacturing closures, employment and compensation \n",
    "adjustments and impediments to administrative activities supporting our product delieveries and deployments.\n",
    "\n",
    "Note 2 - Summary of Significant Accounting Policies Unaudited Interim Financial Statements\n",
    "\n",
    "The consolidated balance sheet as of september 30, 2021, the consolidated sttements of operations, the \n",
    "consolidated statements of \n",
    "comprehensive imcome, the consolidated statements of redeemable noncontrolling interests and equity for \n",
    "the three and nine months ended September 30, 2021 and 2020, as well as well as other information \n",
    "disclposed in the accompanying notes, are unaudited. The consolidated balance sheet as of December 31, \n",
    "2020 was derived from the audited consolidated financial statements as of that date. The interim \n",
    "consolidated financial statements and the accompanying notes should be read in conjuction with the \n",
    "annual consolidated financial statements and the accompanying notes containing in our Annual Report \n",
    "on Form 10-K for the year endede December 31, 2020.\n",
    "'''\n",
    "\n",
    "pattern= 'Note \\d - ([^\\n]*)'\n",
    "match = re.findall(pattern, text)\n",
    "match"
   ]
  },
  {
   "cell_type": "markdown",
   "id": "6cfb3c49",
   "metadata": {},
   "source": [
    "## Extract financial periods from a company's financial reporting"
   ]
  },
  {
   "cell_type": "code",
   "execution_count": 27,
   "id": "86b5fd30",
   "metadata": {},
   "outputs": [
    {
     "data": {
      "text/plain": [
       "['FY2021 Q1', 'FY2020 Q4']"
      ]
     },
     "execution_count": 27,
     "metadata": {},
     "output_type": "execute_result"
    }
   ],
   "source": [
    "# Extract the company finanacial periods\n",
    "\n",
    "text = '''\n",
    "The gross cost of operating lease vehicles in FY2021 Q1 was $4.85 billion.\n",
    "In previous quarter i.e FY2020 Q4 was $3 billion.\n",
    "'''\n",
    "\n",
    "pattern = 'FY\\d{4} Q[1-4]'\n",
    "match = re.findall(pattern, text)\n",
    "match"
   ]
  },
  {
   "cell_type": "code",
   "execution_count": 106,
   "id": "8cecfe42",
   "metadata": {},
   "outputs": [
    {
     "data": {
      "text/plain": [
       "['FY2021 Q1 was $4.85 billion', 'FY2020 Q4 was $3 billion']"
      ]
     },
     "execution_count": 106,
     "metadata": {},
     "output_type": "execute_result"
    }
   ],
   "source": [
    "text = '''\n",
    "The gross cost of operating lease vehicles in FY2021 Q1 was $4.85 billion.\n",
    "In previous quarter i.e FY2020 Q4 was $3 billion.\n",
    "'''\n",
    "\n",
    "pattern = 'FY\\d{4} Q[1-4] \\w+ \\$[\\d\\.]+ \\w+'\n",
    "# pattern = 'FY\\d{4} Q[1-4] \\w+ \\$\\d{1}.85? \\w+'\n",
    "# pattern = 'FY\\d{4} Q[1-4] \\w+ \\$\\d{1} \\w+'\n",
    "match = re.findall(pattern, text)\n",
    "match"
   ]
  },
  {
   "cell_type": "code",
   "execution_count": 84,
   "id": "b6a2ba11",
   "metadata": {},
   "outputs": [
    {
     "data": {
      "text/plain": [
       "['FY2021 Q1', 'fy2020 Q4']"
      ]
     },
     "execution_count": 84,
     "metadata": {},
     "output_type": "execute_result"
    }
   ],
   "source": [
    "# Extract the company finanacial periods\n",
    "\n",
    "text = '''\n",
    "The gross cost of operating lease vehicles in FY2021 Q1 was $4.85 billion.\n",
    "In previous quarter i.e fy2020 Q4 was $3 billion.\n",
    "'''\n",
    "\n",
    "pattern = 'FY\\d{4} Q[1-4]'\n",
    "match = re.findall(pattern, text, flags=re.IGNORECASE)\n",
    "match"
   ]
  },
  {
   "cell_type": "code",
   "execution_count": 86,
   "id": "9bcda273",
   "metadata": {},
   "outputs": [
    {
     "data": {
      "text/plain": [
       "['2021 Q1', '2020 Q4']"
      ]
     },
     "execution_count": 86,
     "metadata": {},
     "output_type": "execute_result"
    }
   ],
   "source": [
    "# Extract the company finanacial periods\n",
    "\n",
    "text = '''\n",
    "The gross cost of operating lease vehicles in FY2021 Q1 was $4.85 billion.\n",
    "In previous quarter i.e fy2020 Q4 was $3 billion.\n",
    "'''\n",
    "\n",
    "pattern = 'FY(\\d{4} Q[1-4])'\n",
    "match = re.findall(pattern, text, flags=re.IGNORECASE)\n",
    "match"
   ]
  },
  {
   "cell_type": "code",
   "execution_count": 96,
   "id": "b3c13747",
   "metadata": {},
   "outputs": [
    {
     "data": {
      "text/plain": [
       "['$4.85', '$3']"
      ]
     },
     "execution_count": 96,
     "metadata": {},
     "output_type": "execute_result"
    }
   ],
   "source": [
    "# Extract the company finanacial periods\n",
    "\n",
    "text = '''\n",
    "The gross cost of operating lease vehicles in FY2021 Q1 was $4.85 billion.\n",
    "Telsa's employee count is 5400.\n",
    "In previous quarter i.e FY2020 Q4 was $3 billion.\n",
    "'''\n",
    "\n",
    "pattern = '\\$[\\d\\.]+'\n",
    "match = re.findall(pattern, text)\n",
    "match"
   ]
  },
  {
   "cell_type": "code",
   "execution_count": 107,
   "id": "60365f47",
   "metadata": {},
   "outputs": [
    {
     "data": {
      "text/plain": [
       "['$4.85', '$3']"
      ]
     },
     "execution_count": 107,
     "metadata": {},
     "output_type": "execute_result"
    }
   ],
   "source": [
    "# Extract the company finanacial periods\n",
    "\n",
    "text = '''\n",
    "The gross cost of operating lease vehicles in FY2021 Q1 was $4.85 billion.\n",
    "Telsa's employee count is 5400.\n",
    "In previous quarter i.e FY2020 Q4 was $3 billion.\n",
    "'''\n",
    "\n",
    "pattern = '\\$[0-9\\.]+'\n",
    "match = re.findall(pattern, text)\n",
    "match"
   ]
  },
  {
   "cell_type": "code",
   "execution_count": 109,
   "id": "45bff76b",
   "metadata": {},
   "outputs": [
    {
     "data": {
      "text/plain": [
       "['4.85', '3']"
      ]
     },
     "execution_count": 109,
     "metadata": {},
     "output_type": "execute_result"
    }
   ],
   "source": [
    "# Extract the company finanacial periods\n",
    "\n",
    "text = '''\n",
    "The gross cost of operating lease vehicles in FY2021 Q1 was $4.85 billion.\n",
    "Telsa's employee count is 5400.\n",
    "In previous quarter i.e FY2020 Q4 was $3 billion.\n",
    "'''\n",
    "\n",
    "pattern = '\\$([0-9\\.]+)'\n",
    "match = re.findall(pattern, text)\n",
    "match"
   ]
  },
  {
   "cell_type": "code",
   "execution_count": 123,
   "id": "fc4d6639",
   "metadata": {},
   "outputs": [
    {
     "data": {
      "text/plain": [
       "[('2021 Q1', '4.85'), ('2020 Q4', '3')]"
      ]
     },
     "execution_count": 123,
     "metadata": {},
     "output_type": "execute_result"
    }
   ],
   "source": [
    "# Extract the following:\n",
    "# FY2021 ==> 4.85\n",
    "# FY2020 Q4 ==> 3\n",
    "\n",
    "text = '''\n",
    "The gross cost of operating lease vehicles in FY2021 Q1 was $4.85 billion.\n",
    "Telsa's employee count is 5400.\n",
    "In previous quarter i.e FY2020 Q4 was $3 billion.\n",
    "\n",
    "FY2021 Q1 ==> 4.85\n",
    "FY2020 Q4 ==> 3\n",
    "'''\n",
    "\n",
    "pattern = 'FY(\\d{4} Q[1-4]) [^\\$]+\\$([0-9\\.]+)'\n",
    "match = re.findall(pattern, text)\n",
    "match"
   ]
  },
  {
   "cell_type": "code",
   "execution_count": 124,
   "id": "f7fda0c2",
   "metadata": {},
   "outputs": [
    {
     "data": {
      "text/plain": [
       "<re.Match object; span=(47, 66), match='FY2021 Q1 was $4.85'>"
      ]
     },
     "execution_count": 124,
     "metadata": {},
     "output_type": "execute_result"
    }
   ],
   "source": [
    "# Extract the following:\n",
    "# FY2021 ==> 4.85\n",
    "# FY2020 Q4 ==> 3\n",
    "\n",
    "text = '''\n",
    "The gross cost of operating lease vehicles in FY2021 Q1 was $4.85 billion.\n",
    "Telsa's employee count is 5400.\n",
    "In previous quarter i.e FY2020 Q4 was $3 billion.\n",
    "\n",
    "FY2021 Q1 ==> 4.85\n",
    "FY2020 Q4 ==> 3\n",
    "'''\n",
    "\n",
    "pattern = 'FY(\\d{4} Q[1-4]) [^\\$]+\\$([0-9\\.]+)'\n",
    "match = re.search(pattern, text)\n",
    "match"
   ]
  },
  {
   "cell_type": "code",
   "execution_count": 126,
   "id": "f5b5be86",
   "metadata": {},
   "outputs": [
    {
     "data": {
      "text/plain": [
       "'FY2021 Q1 was $4.85'"
      ]
     },
     "execution_count": 126,
     "metadata": {},
     "output_type": "execute_result"
    }
   ],
   "source": [
    "match.group()"
   ]
  },
  {
   "cell_type": "markdown",
   "id": "a3b2fe64",
   "metadata": {},
   "source": [
    "## PYTHON REGULAR EXPRESSION TUTORIAL EXERCISE"
   ]
  },
  {
   "cell_type": "markdown",
   "id": "14017e6e",
   "metadata": {},
   "source": [
    "### 1. Extract all twitter handles from following text. Twitter handle is the text that appears after https://twitter.com/ and is a single word. Also it contains only alpha numeric characters i.e A-Z a-z, 0-9 and underscore."
   ]
  },
  {
   "cell_type": "code",
   "execution_count": 5,
   "id": "ecd21b99",
   "metadata": {},
   "outputs": [
    {
     "data": {
      "text/plain": [
       "['elonmusk', 'teslarati', 'dummy_tesla', 'dummy_2_tesla']"
      ]
     },
     "execution_count": 5,
     "metadata": {},
     "output_type": "execute_result"
    }
   ],
   "source": [
    "import re\n",
    "\n",
    "text = '''\n",
    "Follow our leader Elon musk on twitter here:  https://twitter.com/elonmusk,\n",
    "more information on Tesla's products can be found at  https://twitter.com/.\n",
    "Also here are leading influencers for tesla related news.\n",
    "https://twitter.com/teslarati\n",
    "https://twitter.com/dummy_tesla\n",
    "https://twitter.com/dummy_2_tesla\n",
    "'''\n",
    "\n",
    "# pattern= 'Note \\d - ([^\\n]*)'\n",
    "\n",
    "pattern = 'https://twitter\\.com/([A-Za-z0-9_]+)'\n",
    "matches = re.findall(pattern, text)\n",
    "matches"
   ]
  },
  {
   "cell_type": "markdown",
   "id": "d19fe980",
   "metadata": {},
   "source": [
    "### 2. Extract Concentration Risk Types. It will be a text that appears after \"Concentration Risk:\", In below example, your regex should extract these two strings\n",
    "\n",
    "#### (1) Credit Risk\n",
    "\n",
    "#### (2) Supply Risk"
   ]
  },
  {
   "cell_type": "code",
   "execution_count": 8,
   "id": "8cf79ac8",
   "metadata": {},
   "outputs": [
    {
     "data": {
      "text/plain": [
       "['Credit Risk', 'Supply Risk']"
      ]
     },
     "execution_count": 8,
     "metadata": {},
     "output_type": "execute_result"
    }
   ],
   "source": [
    "text = '''\n",
    "Concentration of Risk: Credit Risk\n",
    "Financial instruments that potentially subject us to a concentration of credit risk consist of cash, cash equivalents, marketable securities,\n",
    "restricted cash, accounts receivable, convertible note hedges, and interest rate swaps. Our cash balances are primarily invested in money market funds\n",
    "or on deposit at high credit quality financial institutions in the U.S. These deposits are typically in excess of insured limits. As of September 30, 2021\n",
    "and December 31, 2020, no entity represented 10% or more of our total accounts receivable balance. The risk of concentration for our convertible note\n",
    "hedges and interest rate swaps is mitigated by transacting with several highly-rated multinational banks.\n",
    "Concentration of Risk: Supply Risk\n",
    "We are dependent on our suppliers, including single source suppliers, and the inability of these suppliers to deliver necessary components of our\n",
    "products in a timely manner at prices, quality levels and volumes acceptable to us, or our inability to efficiently manage these components from these\n",
    "suppliers, could have a material adverse effect on our business, prospects, financial condition and operating results.\n",
    "'''\n",
    "# pattern = 'Concentration of Risk: ([A-Za-z]+ [A-Za-z]+)'\n",
    "pattern = 'Concentration of Risk: ([^\\n]*)'\n",
    "\n",
    "re.findall(pattern, text)\n",
    "matches = re.findall(pattern, text)\n",
    "matches"
   ]
  },
  {
   "cell_type": "markdown",
   "id": "71aa5d58",
   "metadata": {},
   "source": [
    "### 3. Companies in europe reports their financial numbers of semi annual basis and you can have a document like this. To extract quarterly and semi-annual period you can use a regex as shown below:\n",
    "\n",
    "Hint: You need to use (?:) type your regex here"
   ]
  },
  {
   "cell_type": "code",
   "execution_count": 15,
   "id": "70a8d628",
   "metadata": {},
   "outputs": [
    {
     "data": {
      "text/plain": [
       "['2021 Q1 ', '2021 S1']"
      ]
     },
     "execution_count": 15,
     "metadata": {},
     "output_type": "execute_result"
    }
   ],
   "source": [
    "text = '''\n",
    "Tesla's gross cost of operating lease vehicles in FY2021 Q1 was $4.85 billion.\n",
    "BMW's gross cost of operating lease vehicles in FY2021 S1 was $8 billion.\n",
    "'''\n",
    "\n",
    "# pattern = 'FY\\d{4} [A-Z]\\d [a-z]+ \\$[0-9\\.]+ \\w+'\n",
    "\n",
    "# pattern = 'FY([0-9]+ \\w+)'\n",
    "pattern = 'FY(\\d{4} (?:Q[1-4] |S[1-2]))'\n",
    "matches = re.findall(pattern, text)\n",
    "matches"
   ]
  },
  {
   "cell_type": "code",
   "execution_count": null,
   "id": "2d6ac5cf",
   "metadata": {},
   "outputs": [],
   "source": []
  }
 ],
 "metadata": {
  "kernelspec": {
   "display_name": "Python 3 (ipykernel)",
   "language": "python",
   "name": "python3"
  },
  "language_info": {
   "codemirror_mode": {
    "name": "ipython",
    "version": 3
   },
   "file_extension": ".py",
   "mimetype": "text/x-python",
   "name": "python",
   "nbconvert_exporter": "python",
   "pygments_lexer": "ipython3",
   "version": "3.11.4"
  }
 },
 "nbformat": 4,
 "nbformat_minor": 5
}
